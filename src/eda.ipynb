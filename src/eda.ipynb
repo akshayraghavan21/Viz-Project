{
 "cells": [
  {
   "cell_type": "code",
   "execution_count": 1,
   "metadata": {},
   "outputs": [],
   "source": [
    "import os\n",
    "import pandas as pd\n",
    "import numpy as np\n",
    "\n",
    "data_dir = \"../data\"\n",
    "raw_dataset_filename = \"mxmh_survey_results.csv\"\n",
    "raw_dataset_file = os.path.join(data_dir, raw_dataset_filename)\n",
    "dataset_raw_df = pd.read_csv(raw_dataset_file)"
   ]
  },
  {
   "cell_type": "code",
   "execution_count": 2,
   "metadata": {},
   "outputs": [
    {
     "name": "stdout",
     "output_type": "stream",
     "text": [
      "<class 'pandas.core.frame.DataFrame'>\n",
      "RangeIndex: 736 entries, 0 to 735\n",
      "Data columns (total 33 columns):\n",
      " #   Column                        Non-Null Count  Dtype  \n",
      "---  ------                        --------------  -----  \n",
      " 0   Timestamp                     736 non-null    object \n",
      " 1   Age                           735 non-null    float64\n",
      " 2   Primary streaming service     735 non-null    object \n",
      " 3   Hours per day                 736 non-null    float64\n",
      " 4   While working                 733 non-null    object \n",
      " 5   Instrumentalist               732 non-null    object \n",
      " 6   Composer                      735 non-null    object \n",
      " 7   Fav genre                     736 non-null    object \n",
      " 8   Exploratory                   736 non-null    object \n",
      " 9   Foreign languages             732 non-null    object \n",
      " 10  BPM                           629 non-null    float64\n",
      " 11  Frequency [Classical]         736 non-null    object \n",
      " 12  Frequency [Country]           736 non-null    object \n",
      " 13  Frequency [EDM]               736 non-null    object \n",
      " 14  Frequency [Folk]              736 non-null    object \n",
      " 15  Frequency [Gospel]            736 non-null    object \n",
      " 16  Frequency [Hip hop]           736 non-null    object \n",
      " 17  Frequency [Jazz]              736 non-null    object \n",
      " 18  Frequency [K pop]             736 non-null    object \n",
      " 19  Frequency [Latin]             736 non-null    object \n",
      " 20  Frequency [Lofi]              736 non-null    object \n",
      " 21  Frequency [Metal]             736 non-null    object \n",
      " 22  Frequency [Pop]               736 non-null    object \n",
      " 23  Frequency [R&B]               736 non-null    object \n",
      " 24  Frequency [Rap]               736 non-null    object \n",
      " 25  Frequency [Rock]              736 non-null    object \n",
      " 26  Frequency [Video game music]  736 non-null    object \n",
      " 27  Anxiety                       736 non-null    float64\n",
      " 28  Depression                    736 non-null    float64\n",
      " 29  Insomnia                      736 non-null    float64\n",
      " 30  OCD                           736 non-null    float64\n",
      " 31  Music effects                 728 non-null    object \n",
      " 32  Permissions                   736 non-null    object \n",
      "dtypes: float64(7), object(26)\n",
      "memory usage: 189.9+ KB\n",
      "None\n"
     ]
    }
   ],
   "source": [
    "print(dataset_raw_df.info())"
   ]
  },
  {
   "cell_type": "code",
   "execution_count": 3,
   "metadata": {},
   "outputs": [
    {
     "name": "stdout",
     "output_type": "stream",
     "text": [
      "Timestamp ['8/27/2022 19:29:02' '8/27/2022 19:57:31' '8/27/2022 21:28:18'\n",
      " '8/27/2022 21:40:40' '8/27/2022 21:54:47' '8/27/2022 21:56:50'\n",
      " '8/27/2022 22:00:29' '8/27/2022 22:18:59' '8/27/2022 22:33:05'\n",
      " '8/27/2022 22:44:03' '8/27/2022 22:51:15' '8/27/2022 23:00:32'\n",
      " '8/27/2022 23:04:00' '8/27/2022 23:12:03' '8/27/2022 23:16:06'\n",
      " '8/27/2022 23:19:52' '8/27/2022 23:39:41' '8/27/2022 23:39:49'\n",
      " '8/27/2022 23:40:55' '8/27/2022 23:41:36' '8/27/2022 23:43:06'\n",
      " '8/28/2022 0:28:02' '8/28/2022 1:39:02' '8/28/2022 3:19:08'\n",
      " '8/28/2022 4:13:11' '8/28/2022 4:38:14' '8/28/2022 4:40:36'\n",
      " '8/28/2022 5:05:51' '8/28/2022 5:16:30' '8/28/2022 8:36:27'\n",
      " '8/28/2022 10:30:22' '8/28/2022 10:38:05' '8/28/2022 10:54:30'\n",
      " '8/28/2022 10:59:53' '8/28/2022 11:08:51' '8/28/2022 11:13:25'\n",
      " '8/28/2022 11:25:49' '8/28/2022 11:27:15' '8/28/2022 11:36:35'\n",
      " '8/28/2022 11:39:21' '8/28/2022 11:50:31' '8/28/2022 11:54:45'\n",
      " '8/28/2022 11:55:54' '8/28/2022 11:58:48' '8/28/2022 12:08:29'\n",
      " '8/28/2022 12:12:35' '8/28/2022 12:15:02' '8/28/2022 12:23:52'\n",
      " '8/28/2022 12:30:08' '8/28/2022 12:32:09' '8/28/2022 12:37:17'\n",
      " '8/28/2022 12:39:49' '8/28/2022 12:52:19' '8/28/2022 12:53:01'\n",
      " '8/28/2022 12:54:35' '8/28/2022 13:01:42' '8/28/2022 13:05:46'\n",
      " '8/28/2022 13:08:24' '8/28/2022 13:09:53' '8/28/2022 13:18:19'\n",
      " '8/28/2022 13:22:36' '8/28/2022 13:22:53' '8/28/2022 13:34:00'\n",
      " '8/28/2022 13:34:27' '8/28/2022 13:42:20' '8/28/2022 13:43:06'\n",
      " '8/28/2022 13:46:03' '8/28/2022 13:48:11' '8/28/2022 13:55:45'\n",
      " '8/28/2022 13:57:47' '8/28/2022 13:59:16' '8/28/2022 14:00:18'\n",
      " '8/28/2022 14:01:08' '8/28/2022 14:02:12' '8/28/2022 14:04:09'\n",
      " '8/28/2022 14:04:20' '8/28/2022 14:07:29' '8/28/2022 14:08:57'\n",
      " '8/28/2022 14:10:04' '8/28/2022 14:10:17' '8/28/2022 14:12:55'\n",
      " '8/28/2022 14:14:48' '8/28/2022 14:18:22' '8/28/2022 14:24:10'\n",
      " '8/28/2022 14:25:08' '8/28/2022 14:26:12' '8/28/2022 14:29:29'\n",
      " '8/28/2022 14:30:34' '8/28/2022 14:38:19' '8/28/2022 14:41:04'\n",
      " '8/28/2022 14:45:44' '8/28/2022 14:47:08' '8/28/2022 14:49:18'\n",
      " '8/28/2022 14:51:02' '8/28/2022 14:58:17' '8/28/2022 14:59:05'\n",
      " '8/28/2022 15:02:14' '8/28/2022 15:03:51' '8/28/2022 15:03:56'\n",
      " '8/28/2022 15:07:16' '8/28/2022 15:09:31' '8/28/2022 15:22:00'\n",
      " '8/28/2022 15:32:38' '8/28/2022 15:41:56' '8/28/2022 16:04:58'\n",
      " '8/28/2022 16:07:28' '8/28/2022 16:07:51' '8/28/2022 16:08:12'\n",
      " '8/28/2022 16:13:28' '8/28/2022 16:15:08' '8/28/2022 16:15:39'\n",
      " '8/28/2022 16:15:58' '8/28/2022 16:23:43' '8/28/2022 16:27:00'\n",
      " '8/28/2022 16:30:17' '8/28/2022 16:30:36' '8/28/2022 16:32:40'\n",
      " '8/28/2022 16:34:03' '8/28/2022 16:37:00' '8/28/2022 16:37:10'\n",
      " '8/28/2022 16:53:26' '8/28/2022 16:58:35' '8/28/2022 17:14:08'\n",
      " '8/28/2022 17:14:32' '8/28/2022 17:15:18' '8/28/2022 17:15:27'\n",
      " '8/28/2022 17:19:10' '8/28/2022 17:27:12' '8/28/2022 17:32:18'\n",
      " '8/28/2022 17:33:12' '8/28/2022 17:37:42' '8/28/2022 17:40:15'\n",
      " '8/28/2022 17:41:15' '8/28/2022 17:43:22' '8/28/2022 17:54:30'\n",
      " '8/28/2022 17:56:27' '8/28/2022 18:02:14' '8/28/2022 18:03:27'\n",
      " '8/28/2022 18:03:50' '8/28/2022 18:06:24' '8/28/2022 18:08:44'\n",
      " '8/28/2022 18:13:47' '8/28/2022 18:17:00' '8/28/2022 18:17:46'\n",
      " '8/28/2022 18:18:12' '8/28/2022 18:18:18' '8/28/2022 18:18:24'\n",
      " '8/28/2022 18:21:19' '8/28/2022 18:28:48' '8/28/2022 18:30:21'\n",
      " '8/28/2022 18:33:32' '8/28/2022 18:35:17' '8/28/2022 18:51:10'\n",
      " '8/28/2022 18:53:03' '8/28/2022 18:54:47' '8/28/2022 18:55:44'\n",
      " '8/28/2022 18:56:54' '8/28/2022 18:57:39' '8/28/2022 18:58:09'\n",
      " '8/28/2022 18:58:27' '8/28/2022 18:59:40' '8/28/2022 18:59:53'\n",
      " '8/28/2022 19:04:05' '8/28/2022 19:04:26' '8/28/2022 19:07:16'\n",
      " '8/28/2022 19:10:07' '8/28/2022 19:12:02' '8/28/2022 19:16:43'\n",
      " '8/28/2022 19:18:53' '8/28/2022 19:20:03' '8/28/2022 19:22:30'\n",
      " '8/28/2022 19:26:23' '8/28/2022 19:27:46' '8/28/2022 19:29:08'\n",
      " '8/28/2022 19:29:25' '8/28/2022 19:30:42' '8/28/2022 19:30:49'\n",
      " '8/28/2022 19:35:58' '8/28/2022 19:40:03' '8/28/2022 19:46:02'\n",
      " '8/28/2022 19:46:57' '8/28/2022 19:50:30' '8/28/2022 19:56:46'\n",
      " '8/28/2022 19:59:01' '8/28/2022 20:01:29' '8/28/2022 20:04:49'\n",
      " '8/28/2022 20:12:05' '8/28/2022 20:14:02' '8/28/2022 20:14:47'\n",
      " '8/28/2022 20:15:28' '8/28/2022 20:20:20' '8/28/2022 20:20:52'\n",
      " '8/28/2022 20:32:41' '8/28/2022 20:33:43' '8/28/2022 20:37:41'\n",
      " '8/28/2022 20:43:43' '8/28/2022 20:50:37' '8/28/2022 20:57:16'\n",
      " '8/28/2022 20:57:57' '8/28/2022 21:01:18' '8/28/2022 21:03:23'\n",
      " '8/28/2022 21:06:09' '8/28/2022 21:11:09' '8/28/2022 21:14:34'\n",
      " '8/28/2022 21:14:51' '8/28/2022 21:23:07' '8/28/2022 21:24:10'\n",
      " '8/28/2022 21:26:19' '8/28/2022 21:28:30' '8/28/2022 21:30:33'\n",
      " '8/28/2022 21:30:41' '8/28/2022 21:31:40' '8/28/2022 21:47:26'\n",
      " '8/28/2022 21:48:12' '8/28/2022 21:48:29' '8/28/2022 21:52:44'\n",
      " '8/28/2022 21:54:05' '8/28/2022 21:55:05' '8/28/2022 21:55:22'\n",
      " '8/28/2022 22:03:40' '8/28/2022 22:04:16' '8/28/2022 22:05:53'\n",
      " '8/28/2022 22:06:46' '8/28/2022 22:09:11' '8/28/2022 22:10:24'\n",
      " '8/28/2022 22:11:31' '8/28/2022 22:13:00' '8/28/2022 22:14:01'\n",
      " '8/28/2022 22:14:30' '8/28/2022 22:21:12' '8/28/2022 22:30:17'\n",
      " '8/28/2022 22:32:47' '8/28/2022 22:38:36' '8/28/2022 22:39:24'\n",
      " '8/28/2022 22:39:58' '8/28/2022 22:49:17' '8/28/2022 22:51:01'\n",
      " '8/28/2022 22:51:30' '8/28/2022 22:53:43' '8/28/2022 22:58:10'\n",
      " '8/28/2022 23:04:08' '8/28/2022 23:08:27' '8/28/2022 23:19:35'\n",
      " '8/28/2022 23:23:20' '8/28/2022 23:23:41' '8/28/2022 23:23:50'\n",
      " '8/28/2022 23:26:58' '8/28/2022 23:34:19' '8/28/2022 23:34:37'\n",
      " '8/28/2022 23:40:54' '8/28/2022 23:42:24' '8/28/2022 23:47:13'\n",
      " '8/28/2022 23:50:25' '8/28/2022 23:54:34' '8/28/2022 23:56:06'\n",
      " '8/29/2022 0:03:43' '8/29/2022 0:05:09' '8/29/2022 0:05:36'\n",
      " '8/29/2022 0:21:31' '8/29/2022 0:32:36' '8/29/2022 0:33:06'\n",
      " '8/29/2022 0:33:49' '8/29/2022 0:39:19' '8/29/2022 0:39:59'\n",
      " '8/29/2022 0:47:12' '8/29/2022 0:47:59' '8/29/2022 0:50:03'\n",
      " '8/29/2022 0:50:27' '8/29/2022 0:54:55' '8/29/2022 0:59:01'\n",
      " '8/29/2022 1:06:46' '8/29/2022 1:17:44' '8/29/2022 1:22:44'\n",
      " '8/29/2022 1:26:19' '8/29/2022 1:34:06' '8/29/2022 1:34:27'\n",
      " '8/29/2022 1:54:06' '8/29/2022 1:59:22' '8/29/2022 2:03:07'\n",
      " '8/29/2022 2:06:14' '8/29/2022 2:10:36' '8/29/2022 2:22:37'\n",
      " '8/29/2022 2:25:53' '8/29/2022 2:28:45' '8/29/2022 2:29:08'\n",
      " '8/29/2022 2:30:08' '8/29/2022 2:30:45' '8/29/2022 2:40:16'\n",
      " '8/29/2022 2:43:40' '8/29/2022 2:46:27' '8/29/2022 2:46:38'\n",
      " '8/29/2022 2:49:37' '8/29/2022 2:54:06' '8/29/2022 3:01:38'\n",
      " '8/29/2022 3:09:21' '8/29/2022 3:13:27' '8/29/2022 3:14:38'\n",
      " '8/29/2022 3:17:19' '8/29/2022 3:21:18' '8/29/2022 3:29:44'\n",
      " '8/29/2022 3:32:43' '8/29/2022 3:44:33' '8/29/2022 3:46:02'\n",
      " '8/29/2022 3:47:32' '8/29/2022 3:49:29' '8/29/2022 4:02:01'\n",
      " '8/29/2022 4:02:12' '8/29/2022 4:10:25' '8/29/2022 4:17:46'\n",
      " '8/29/2022 4:36:16' '8/29/2022 4:37:05' '8/29/2022 4:41:30'\n",
      " '8/29/2022 4:42:51' '8/29/2022 4:51:37' '8/29/2022 4:53:44'\n",
      " '8/29/2022 4:57:35' '8/29/2022 5:06:50' '8/29/2022 5:08:52'\n",
      " '8/29/2022 5:14:53' '8/29/2022 5:20:21' '8/29/2022 5:22:38'\n",
      " '8/29/2022 5:35:40' '8/29/2022 5:37:56' '8/29/2022 5:41:25'\n",
      " '8/29/2022 5:45:03' '8/29/2022 5:50:21' '8/29/2022 6:00:25'\n",
      " '8/29/2022 6:13:47' '8/29/2022 6:31:56' '8/29/2022 6:44:14'\n",
      " '8/29/2022 6:58:24' '8/29/2022 7:11:40' '8/29/2022 7:17:09'\n",
      " '8/29/2022 7:48:34' '8/29/2022 7:52:49' '8/29/2022 7:53:58'\n",
      " '8/29/2022 8:23:46' '8/29/2022 8:28:46' '8/29/2022 8:37:30'\n",
      " '8/29/2022 8:38:53' '8/29/2022 8:39:19' '8/29/2022 8:47:09'\n",
      " '8/29/2022 9:01:49' '8/29/2022 9:07:42' '8/29/2022 9:13:14'\n",
      " '8/29/2022 9:26:07' '8/29/2022 9:42:23' '8/29/2022 9:43:35'\n",
      " '8/29/2022 9:47:21' '8/29/2022 9:47:26' '8/29/2022 9:52:20'\n",
      " '8/29/2022 9:56:31' '8/29/2022 10:23:22' '8/29/2022 10:23:46'\n",
      " '8/29/2022 10:25:54' '8/29/2022 10:41:11' '8/29/2022 10:44:43'\n",
      " '8/29/2022 10:45:36' '8/29/2022 11:02:29' '8/29/2022 11:04:24'\n",
      " '8/29/2022 11:16:34' '8/29/2022 11:41:34' '8/29/2022 11:56:17'\n",
      " '8/29/2022 12:25:16' '8/29/2022 12:30:01' '8/29/2022 12:32:30'\n",
      " '8/29/2022 13:09:33' '8/29/2022 14:13:58' '8/29/2022 14:25:08'\n",
      " '8/29/2022 14:49:56' '8/29/2022 14:53:54' '8/29/2022 15:05:22'\n",
      " '8/29/2022 15:18:16' '8/29/2022 15:20:35' '8/29/2022 16:05:19'\n",
      " '8/29/2022 16:07:39' '8/29/2022 16:28:12' '8/29/2022 16:39:08'\n",
      " '8/29/2022 17:04:16' '8/29/2022 17:22:01' '8/29/2022 17:32:02'\n",
      " '8/29/2022 17:36:01' '8/29/2022 17:52:06' '8/29/2022 17:58:47'\n",
      " '8/29/2022 18:00:27' '8/29/2022 18:09:17' '8/29/2022 18:13:51'\n",
      " '8/29/2022 18:22:58' '8/29/2022 18:47:22' '8/29/2022 18:56:27'\n",
      " '8/29/2022 18:57:09' '8/29/2022 19:07:50' '8/29/2022 19:08:34'\n",
      " '8/29/2022 19:44:49' '8/29/2022 20:03:00' '8/29/2022 20:03:04'\n",
      " '8/29/2022 20:04:14' '8/29/2022 20:12:32' '8/29/2022 20:18:37'\n",
      " '8/29/2022 20:22:33' '8/29/2022 20:47:47' '8/29/2022 21:21:30'\n",
      " '8/29/2022 21:24:24' '8/29/2022 22:00:46' '8/29/2022 22:04:50'\n",
      " '8/29/2022 22:52:14' '8/29/2022 23:20:48' '8/29/2022 23:36:14'\n",
      " '8/30/2022 0:00:29' '8/30/2022 0:14:35' '8/30/2022 1:01:09'\n",
      " '8/30/2022 5:16:13' '8/30/2022 6:05:56' '8/30/2022 6:10:58'\n",
      " '8/30/2022 8:00:32' '8/30/2022 9:35:28' '8/30/2022 10:10:44'\n",
      " '8/30/2022 11:05:06' '8/30/2022 11:12:36' '8/30/2022 12:03:11'\n",
      " '8/30/2022 13:07:20' '8/30/2022 14:25:28' '8/30/2022 14:43:14'\n",
      " '8/30/2022 16:04:47' '8/30/2022 16:43:28' '8/30/2022 16:47:39'\n",
      " '8/30/2022 17:33:13' '8/30/2022 17:43:36' '8/30/2022 18:15:39'\n",
      " '8/31/2022 1:39:16' '8/31/2022 5:45:08' '8/31/2022 6:36:13'\n",
      " '8/31/2022 8:04:22' '8/31/2022 8:35:00' '8/31/2022 9:42:46'\n",
      " '8/31/2022 12:53:28' '8/31/2022 13:20:39' '8/31/2022 14:28:33'\n",
      " '8/31/2022 15:48:18' '8/31/2022 16:47:03' '8/31/2022 18:56:31'\n",
      " '8/31/2022 18:56:39' '8/31/2022 20:40:05' '8/31/2022 21:04:07'\n",
      " '8/31/2022 23:09:44' '9/1/2022 1:16:46' '9/1/2022 2:32:43'\n",
      " '9/1/2022 3:38:02' '9/1/2022 5:01:52' '9/1/2022 5:20:01'\n",
      " '9/1/2022 9:25:07' '9/1/2022 12:04:47' '9/1/2022 13:13:06'\n",
      " '9/1/2022 13:14:34' '9/1/2022 14:56:21' '9/1/2022 14:57:20'\n",
      " '9/1/2022 14:59:20' '9/1/2022 15:01:10' '9/1/2022 15:05:15'\n",
      " '9/1/2022 15:21:55' '9/1/2022 15:24:02' '9/1/2022 15:24:13'\n",
      " '9/1/2022 15:26:35' '9/1/2022 15:36:18' '9/1/2022 15:50:14'\n",
      " '9/1/2022 16:00:05' '9/1/2022 16:06:10' '9/1/2022 16:11:18'\n",
      " '9/1/2022 16:30:33' '9/1/2022 16:35:30' '9/1/2022 16:38:05'\n",
      " '9/1/2022 16:38:12' '9/1/2022 16:43:48' '9/1/2022 16:58:12'\n",
      " '9/1/2022 17:00:07' '9/1/2022 17:17:48' '9/1/2022 17:27:50'\n",
      " '9/1/2022 17:33:02' '9/1/2022 17:48:55' '9/1/2022 17:51:31'\n",
      " '9/1/2022 18:02:53' '9/1/2022 18:10:41' '9/1/2022 18:11:35'\n",
      " '9/1/2022 18:38:46' '9/1/2022 19:08:55' '9/1/2022 19:09:32'\n",
      " '9/1/2022 19:36:54' '9/1/2022 19:39:07' '9/1/2022 19:39:49'\n",
      " '9/1/2022 19:44:33' '9/1/2022 20:02:19' '9/1/2022 20:36:10'\n",
      " '9/1/2022 21:05:57' '9/1/2022 21:07:33' '9/1/2022 21:14:09'\n",
      " '9/1/2022 21:24:34' '9/1/2022 21:44:49' '9/1/2022 22:38:20'\n",
      " '9/1/2022 23:11:19' '9/2/2022 0:08:07' '9/2/2022 0:20:40'\n",
      " '9/2/2022 0:32:48' '9/2/2022 1:03:00' '9/2/2022 1:59:54'\n",
      " '9/2/2022 2:19:59' '9/2/2022 3:06:53' '9/2/2022 3:27:21'\n",
      " '9/2/2022 3:32:55' '9/2/2022 3:36:18' '9/2/2022 4:06:21'\n",
      " '9/2/2022 4:56:02' '9/2/2022 4:56:56' '9/2/2022 5:21:18'\n",
      " '9/2/2022 5:40:14' '9/2/2022 5:49:20' '9/2/2022 6:20:43'\n",
      " '9/2/2022 6:41:49' '9/2/2022 7:13:38' '9/2/2022 7:13:53'\n",
      " '9/2/2022 7:29:17' '9/2/2022 7:53:55' '9/2/2022 8:05:59'\n",
      " '9/2/2022 8:06:29' '9/2/2022 9:15:48' '9/2/2022 9:25:05'\n",
      " '9/2/2022 9:54:23' '9/2/2022 14:09:04' '9/2/2022 14:31:06'\n",
      " '9/2/2022 15:24:02' '9/2/2022 16:14:44' '9/2/2022 16:36:02'\n",
      " '9/2/2022 19:20:33' '9/2/2022 19:39:37' '9/2/2022 21:14:59'\n",
      " '9/2/2022 21:19:33' '9/2/2022 22:18:57' '9/3/2022 3:54:07'\n",
      " '9/3/2022 5:27:15' '9/3/2022 7:09:22' '9/3/2022 8:53:08'\n",
      " '9/3/2022 10:20:18' '9/3/2022 10:41:32' '9/3/2022 12:26:29'\n",
      " '9/3/2022 13:52:38' '9/3/2022 14:08:20' '9/3/2022 14:35:13'\n",
      " '9/3/2022 15:52:50' '9/3/2022 15:52:55' '9/3/2022 16:00:31'\n",
      " '9/3/2022 16:24:38' '9/3/2022 17:14:57' '9/3/2022 18:01:31'\n",
      " '9/3/2022 18:23:01' '9/3/2022 18:37:51' '9/3/2022 20:49:52'\n",
      " '9/3/2022 20:58:21' '9/3/2022 21:08:12' '9/3/2022 21:52:02'\n",
      " '9/4/2022 2:32:07' '9/4/2022 5:01:04' '9/4/2022 5:22:34'\n",
      " '9/4/2022 9:22:58' '9/4/2022 10:07:27' '9/4/2022 10:48:55'\n",
      " '9/4/2022 11:15:06' '9/4/2022 11:25:54' '9/4/2022 13:07:45'\n",
      " '9/4/2022 15:41:59' '9/4/2022 16:26:26' '9/4/2022 17:54:29'\n",
      " '9/4/2022 20:38:17' '9/4/2022 21:29:06' '9/4/2022 21:44:26'\n",
      " '9/4/2022 22:32:18' '9/5/2022 2:08:46' '9/5/2022 6:29:00'\n",
      " '9/5/2022 8:21:48' '9/5/2022 12:10:54' '9/5/2022 21:56:50'\n",
      " '9/6/2022 9:40:57' '9/6/2022 10:12:09' '9/6/2022 11:15:37'\n",
      " '9/6/2022 11:19:55' '9/6/2022 12:36:19' '9/6/2022 13:26:11'\n",
      " '9/6/2022 14:43:07' '9/6/2022 15:53:44' '9/6/2022 19:27:55'\n",
      " '9/7/2022 9:16:47' '9/7/2022 12:32:12' '9/7/2022 14:17:21'\n",
      " '9/7/2022 19:43:58' '9/7/2022 21:19:11' '9/8/2022 15:06:09'\n",
      " '9/8/2022 16:56:15' '9/8/2022 18:12:17' '9/8/2022 18:14:01'\n",
      " '9/8/2022 19:16:43' '9/8/2022 21:30:13' '9/8/2022 23:40:30'\n",
      " '9/9/2022 7:19:08' '9/9/2022 7:48:44' '9/9/2022 11:15:23'\n",
      " '9/9/2022 11:25:57' '9/9/2022 18:44:18' '9/9/2022 22:31:31'\n",
      " '9/9/2022 23:34:31' '9/10/2022 2:59:03' '9/10/2022 6:07:56'\n",
      " '9/10/2022 9:06:07' '9/10/2022 22:08:18' '9/12/2022 9:39:30'\n",
      " '9/12/2022 11:45:04' '9/12/2022 12:09:32' '9/12/2022 12:14:25'\n",
      " '9/12/2022 12:15:54' '9/12/2022 12:46:55' '9/12/2022 13:31:22'\n",
      " '9/12/2022 13:33:58' '9/12/2022 13:46:34' '9/12/2022 13:55:53'\n",
      " '9/12/2022 14:20:17' '9/12/2022 14:27:43' '9/12/2022 14:29:16'\n",
      " '9/12/2022 14:42:44' '9/12/2022 14:44:24' '9/12/2022 15:07:48'\n",
      " '9/12/2022 15:12:27' '9/12/2022 16:24:44' '9/12/2022 18:07:54'\n",
      " '9/12/2022 18:09:18' '9/12/2022 18:10:24' '9/12/2022 18:54:01'\n",
      " '9/12/2022 19:03:41' '9/12/2022 19:13:06' '9/12/2022 19:41:23'\n",
      " '9/12/2022 20:07:14' '9/12/2022 22:24:29' '9/12/2022 22:26:06'\n",
      " '9/12/2022 23:09:28' '9/12/2022 23:16:49' '9/12/2022 23:56:16'\n",
      " '9/13/2022 0:48:14' '9/13/2022 1:55:43' '9/13/2022 1:57:14'\n",
      " '9/13/2022 2:17:14' '9/13/2022 4:45:33' '9/13/2022 5:57:53'\n",
      " '9/13/2022 7:06:03' '9/13/2022 7:12:07' '9/13/2022 8:05:59'\n",
      " '9/13/2022 8:36:33' '9/13/2022 9:29:29' '9/13/2022 11:16:37'\n",
      " '9/13/2022 13:18:32' '9/13/2022 13:58:18' '9/13/2022 16:16:16'\n",
      " '9/13/2022 16:34:56' '9/13/2022 22:19:10' '9/13/2022 23:06:06'\n",
      " '9/14/2022 0:09:08' '9/14/2022 0:58:57' '9/14/2022 7:07:15'\n",
      " '9/14/2022 9:56:39' '9/14/2022 12:44:04' '9/15/2022 0:33:58'\n",
      " '9/15/2022 9:41:28' '9/15/2022 11:09:46' '9/15/2022 15:30:41'\n",
      " '9/16/2022 1:47:01' '9/16/2022 9:24:53' '9/16/2022 21:55:32'\n",
      " '9/18/2022 16:23:29' '9/18/2022 20:32:27' '9/19/2022 8:12:47'\n",
      " '9/19/2022 9:37:09' '9/19/2022 18:34:27' '9/19/2022 20:09:43'\n",
      " '9/19/2022 23:53:37' '9/21/2022 21:12:20' '9/22/2022 12:32:45'\n",
      " '9/22/2022 15:03:22' '9/23/2022 21:07:24' '9/23/2022 23:05:47'\n",
      " '9/23/2022 23:06:12' '9/23/2022 23:06:29' '9/23/2022 23:43:10'\n",
      " '9/24/2022 0:42:39' '9/24/2022 10:25:15' '9/24/2022 10:59:12'\n",
      " '9/25/2022 14:01:57' '9/27/2022 8:17:33' '9/27/2022 11:46:56'\n",
      " '9/27/2022 13:32:27' '9/28/2022 17:25:48' '9/28/2022 19:37:41'\n",
      " '9/29/2022 17:54:15' '10/2/2022 7:52:02' '10/3/2022 9:30:19'\n",
      " '10/3/2022 10:00:01' '10/3/2022 10:25:46' '10/3/2022 10:53:28'\n",
      " '10/3/2022 11:30:10' '10/3/2022 13:01:06' '10/3/2022 13:47:14'\n",
      " '10/3/2022 15:38:19' '10/3/2022 16:43:32' '10/3/2022 20:03:57'\n",
      " '10/4/2022 0:48:34' '10/4/2022 4:50:49' '10/4/2022 8:12:33'\n",
      " '10/4/2022 8:53:39' '10/4/2022 14:50:28' '10/4/2022 19:33:42'\n",
      " '10/4/2022 19:43:11' '10/5/2022 8:58:16' '10/5/2022 12:30:23'\n",
      " '10/6/2022 3:35:11' '10/6/2022 9:17:46' '10/9/2022 22:15:59'\n",
      " '10/11/2022 15:46:46' '10/14/2022 18:01:12' '10/14/2022 20:42:26'\n",
      " '10/15/2022 14:00:55' '10/22/2022 15:20:29' '10/23/2022 20:50:27'\n",
      " '10/26/2022 19:45:54' '10/30/2022 7:24:08' '10/30/2022 13:13:32'\n",
      " '10/30/2022 13:15:26' '10/30/2022 14:37:28' '11/1/2022 22:26:42'\n",
      " '11/3/2022 23:24:38' '11/4/2022 17:31:47' '11/9/2022 1:55:20']\n",
      "Age [18. 63. 61. 21. 19. nan 17. 16. 15. 14. 20. 26. 23. 37. 36. 24. 22. 42.\n",
      " 25. 32. 29. 41. 31. 33. 30. 43. 28. 34. 13. 35. 27. 53. 49. 60. 38. 44.\n",
      " 40. 64. 56. 59. 10. 12. 54. 57. 69. 72. 73. 39. 58. 67. 70. 55. 48. 71.\n",
      " 74. 51. 65. 80. 50. 68. 46. 89.]\n",
      "Primary streaming service ['Spotify' 'Pandora' 'YouTube Music' 'I do not use a streaming service.'\n",
      " 'Apple Music' 'Other streaming service' nan]\n",
      "Hours per day [ 3.    1.5   4.    2.5   5.    1.    6.    8.    2.   12.   24.    0.5\n",
      "  0.25  0.    7.   10.    9.    0.7   4.5  20.   16.   15.   14.   13.\n",
      "  0.1  11.   18.  ]\n",
      "While working ['Yes' 'No' nan]\n",
      "Instrumentalist ['Yes' 'No' nan]\n",
      "Composer ['Yes' 'No' nan]\n",
      "Fav genre ['Latin' 'Rock' 'Video game music' 'Jazz' 'R&B' 'K pop' 'Country' 'EDM'\n",
      " 'Hip hop' 'Pop' 'Rap' 'Classical' 'Metal' 'Folk' 'Lofi' 'Gospel']\n",
      "Exploratory ['Yes' 'No']\n",
      "Foreign languages ['Yes' 'No' nan]\n",
      "BPM [1.56000000e+02 1.19000000e+02 1.32000000e+02 8.40000000e+01\n",
      " 1.07000000e+02 8.60000000e+01 6.60000000e+01 9.50000000e+01\n",
      " 9.40000000e+01 1.55000000e+02            nan 1.25000000e+02\n",
      " 8.80000000e+01 1.48000000e+02 1.03000000e+02 1.20000000e+02\n",
      " 9.90000000e+01 1.18000000e+02 7.90000000e+01 1.69000000e+02\n",
      " 1.36000000e+02 1.01000000e+02 1.26000000e+02 1.83000000e+02\n",
      " 1.42000000e+02 7.50000000e+01 8.90000000e+01 1.40000000e+02\n",
      " 1.61000000e+02 8.00000000e+01 1.30000000e+02 1.47000000e+02\n",
      " 7.70000000e+01 1.15000000e+02 1.57000000e+02 9.00000000e+01\n",
      " 1.28000000e+02 9.60000000e+01 9.10000000e+01 5.50000000e+01\n",
      " 8.50000000e+01 1.60000000e+02 1.08000000e+02 1.70000000e+02\n",
      " 1.74000000e+02 1.27000000e+02 1.65000000e+02 1.13000000e+02\n",
      " 1.67000000e+02 1.10000000e+02 1.50000000e+02 9.30000000e+01\n",
      " 1.09000000e+02 1.75000000e+02 1.62000000e+02 1.89000000e+02\n",
      " 1.21000000e+02 2.00000000e+02 1.05000000e+02 1.93000000e+02\n",
      " 1.49000000e+02 1.34000000e+02 1.00000000e+02 9.80000000e+01\n",
      " 7.80000000e+01 1.17000000e+02 1.22000000e+02 1.79000000e+02\n",
      " 1.66000000e+02 1.44000000e+02 6.10000000e+01 1.85000000e+02\n",
      " 9.20000000e+01 1.94000000e+02 6.00000000e+01 1.90000000e+02\n",
      " 8.70000000e+01 1.71000000e+02 1.14000000e+02 1.41000000e+02\n",
      " 1.46000000e+02 1.64000000e+02 1.45000000e+02 1.12000000e+02\n",
      " 1.11000000e+02 1.72000000e+02 1.80000000e+02 7.60000000e+01\n",
      " 1.29000000e+02 8.10000000e+01 5.20000000e+01 9.70000000e+01\n",
      " 1.43000000e+02 1.58000000e+02 1.04000000e+02 1.35000000e+02\n",
      " 2.20000000e+02 1.38000000e+02 1.39000000e+02 1.78000000e+02\n",
      " 6.20000000e+01 7.20000000e+01 0.00000000e+00 2.08000000e+02\n",
      " 2.00000000e+01 1.24000000e+02 1.81000000e+02 1.06000000e+02\n",
      " 1.91000000e+02 4.00000000e+01 1.73000000e+02 1.23000000e+02\n",
      " 4.00000000e+00 7.30000000e+01 1.37000000e+02 1.33000000e+02\n",
      " 1.02000000e+02 8.20000000e+01 1.16000000e+02 1.31000000e+02\n",
      " 2.04000000e+02 1.59000000e+02 7.00000000e+01 2.10000000e+02\n",
      " 8.00000000e+00 9.99999999e+08 1.53000000e+02 1.92000000e+02\n",
      " 5.60000000e+01 6.30000000e+01 6.80000000e+01 6.24000000e+02\n",
      " 2.18000000e+02 1.86000000e+02 1.63000000e+02 1.68000000e+02]\n",
      "Frequency [Classical] ['Rarely' 'Sometimes' 'Never' 'Very frequently']\n",
      "Frequency [Country] ['Never' 'Sometimes' 'Very frequently' 'Rarely']\n",
      "Frequency [EDM] ['Rarely' 'Never' 'Very frequently' 'Sometimes']\n",
      "Frequency [Folk] ['Never' 'Rarely' 'Sometimes' 'Very frequently']\n",
      "Frequency [Gospel] ['Never' 'Sometimes' 'Rarely' 'Very frequently']\n",
      "Frequency [Hip hop] ['Sometimes' 'Rarely' 'Never' 'Very frequently']\n",
      "Frequency [Jazz] ['Never' 'Very frequently' 'Rarely' 'Sometimes']\n",
      "Frequency [K pop] ['Very frequently' 'Rarely' 'Sometimes' 'Never']\n",
      "Frequency [Latin] ['Very frequently' 'Sometimes' 'Never' 'Rarely']\n",
      "Frequency [Lofi] ['Rarely' 'Sometimes' 'Very frequently' 'Never']\n",
      "Frequency [Metal] ['Never' 'Sometimes' 'Rarely' 'Very frequently']\n",
      "Frequency [Pop] ['Very frequently' 'Sometimes' 'Rarely' 'Never']\n",
      "Frequency [R&B] ['Sometimes' 'Never' 'Very frequently' 'Rarely']\n",
      "Frequency [Rap] ['Very frequently' 'Rarely' 'Never' 'Sometimes']\n",
      "Frequency [Rock] ['Never' 'Very frequently' 'Rarely' 'Sometimes']\n",
      "Frequency [Video game music] ['Sometimes' 'Rarely' 'Very frequently' 'Never']\n",
      "Anxiety [ 3.   7.   9.   8.   4.   5.   2.   1.   6.  10.   0.   7.5]\n",
      "Depression [ 0.   2.   7.   8.   3.   1.   4.   5.   9.  10.   6.   3.5]\n",
      "Insomnia [ 1.   2.  10.   3.   5.   7.   6.   0.   4.   8.   9.   3.5]\n",
      "OCD [ 0.   1.   2.   3.   9.   7.   4.   6.  10.   5.   8.   8.5  5.5]\n",
      "Music effects [nan 'No effect' 'Improve' 'Worsen']\n",
      "Permissions ['I understand.']\n"
     ]
    }
   ],
   "source": [
    "for col in dataset_raw_df.columns:\n",
    "    print(col, dataset_raw_df[col].unique())"
   ]
  },
  {
   "cell_type": "markdown",
   "metadata": {},
   "source": [
    "Drop Permissions, Timestamp, NA Rows\n"
   ]
  },
  {
   "cell_type": "code",
   "execution_count": 4,
   "metadata": {},
   "outputs": [],
   "source": [
    "original_cols = dataset_raw_df.columns.tolist()\n",
    "edited_cols = [col.lower().replace(\" \", \"_\").replace(\"[\",\"\").replace(\"]\",\"\") for col in original_cols]\n",
    "dataset_raw_df.columns = edited_cols\n"
   ]
  },
  {
   "cell_type": "code",
   "execution_count": 5,
   "metadata": {},
   "outputs": [],
   "source": [
    "cols_to_drop = [\"permissions\", \"timestamp\"]\n",
    "dataset_raw_df.drop(columns=cols_to_drop, inplace=True)\n",
    "dataset_raw_df.dropna(inplace=True)"
   ]
  },
  {
   "cell_type": "code",
   "execution_count": 6,
   "metadata": {},
   "outputs": [
    {
     "name": "stdout",
     "output_type": "stream",
     "text": [
      "<class 'pandas.core.frame.DataFrame'>\n",
      "Index: 616 entries, 2 to 735\n",
      "Data columns (total 31 columns):\n",
      " #   Column                      Non-Null Count  Dtype  \n",
      "---  ------                      --------------  -----  \n",
      " 0   age                         616 non-null    float64\n",
      " 1   primary_streaming_service   616 non-null    object \n",
      " 2   hours_per_day               616 non-null    float64\n",
      " 3   while_working               616 non-null    object \n",
      " 4   instrumentalist             616 non-null    object \n",
      " 5   composer                    616 non-null    object \n",
      " 6   fav_genre                   616 non-null    object \n",
      " 7   exploratory                 616 non-null    object \n",
      " 8   foreign_languages           616 non-null    object \n",
      " 9   bpm                         616 non-null    float64\n",
      " 10  frequency_classical         616 non-null    object \n",
      " 11  frequency_country           616 non-null    object \n",
      " 12  frequency_edm               616 non-null    object \n",
      " 13  frequency_folk              616 non-null    object \n",
      " 14  frequency_gospel            616 non-null    object \n",
      " 15  frequency_hip_hop           616 non-null    object \n",
      " 16  frequency_jazz              616 non-null    object \n",
      " 17  frequency_k_pop             616 non-null    object \n",
      " 18  frequency_latin             616 non-null    object \n",
      " 19  frequency_lofi              616 non-null    object \n",
      " 20  frequency_metal             616 non-null    object \n",
      " 21  frequency_pop               616 non-null    object \n",
      " 22  frequency_r&b               616 non-null    object \n",
      " 23  frequency_rap               616 non-null    object \n",
      " 24  frequency_rock              616 non-null    object \n",
      " 25  frequency_video_game_music  616 non-null    object \n",
      " 26  anxiety                     616 non-null    float64\n",
      " 27  depression                  616 non-null    float64\n",
      " 28  insomnia                    616 non-null    float64\n",
      " 29  ocd                         616 non-null    float64\n",
      " 30  music_effects               616 non-null    object \n",
      "dtypes: float64(7), object(24)\n",
      "memory usage: 154.0+ KB\n"
     ]
    }
   ],
   "source": [
    "dataset_raw_df.info()"
   ]
  },
  {
   "cell_type": "code",
   "execution_count": 7,
   "metadata": {},
   "outputs": [],
   "source": [
    "import matplotlib.pyplot as plt\n",
    "def plot_scatter_plot(df, x_col, y_col):\n",
    "    plt.figure(figsize=(8, 8), dpi=80)\n",
    "    plt.scatter(df[x_col], df[y_col])\n",
    "    plt.title(f\"Scatter Plot of {x_col} vs {y_col}\")\n",
    "    plt.show()\n",
    "\n",
    "def plot_hist(df, x_col):\n",
    "    plt.figure(figsize=(8, 8), dpi=80)\n",
    "    plt.hist(df[x_col])\n",
    "    plt.title(f\"Histogram Plot of {x_col}\")\n",
    "    plt.show()\n",
    "\n",
    "def plot_bar(df, x_col):\n",
    "    \n",
    "    plt.figure(figsize=(8, 8), dpi=80)\n",
    "    plt.bar(df[x_col])\n",
    "    plt.title(f\"Bar Plot of {x_col}\")\n",
    "    plt.show()\n",
    "\n",
    "def plot_box(df, x_col):\n",
    "    plt.figure(figsize=(10, 8), dpi=80)\n",
    "    plt.boxplot(df[x_col])\n",
    "    plt.title(f\"Box Plot of {x_col}\")\n",
    "    plt.show()"
   ]
  },
  {
   "cell_type": "code",
   "execution_count": 8,
   "metadata": {},
   "outputs": [
    {
     "data": {
      "text/plain": [
       "frequency_classical\n",
       "Rarely             223\n",
       "Sometimes          168\n",
       "Never              139\n",
       "Very frequently     86\n",
       "Name: count, dtype: int64"
      ]
     },
     "execution_count": 8,
     "metadata": {},
     "output_type": "execute_result"
    }
   ],
   "source": [
    "dataset_raw_df[\"frequency_classical\"].value_counts()"
   ]
  },
  {
   "cell_type": "code",
   "execution_count": 9,
   "metadata": {},
   "outputs": [
    {
     "data": {
      "text/plain": [
       "<BarContainer object of 4 artists>"
      ]
     },
     "execution_count": 9,
     "metadata": {},
     "output_type": "execute_result"
    },
    {
     "data": {
      "image/png": "[encoded data removed]",
      "text/plain": [
       "<Figure size 640x480 with 1 Axes>"
      ]
     },
     "metadata": {},
     "output_type": "display_data"
    }
   ],
   "source": [
    "plt.bar(dataset_raw_df[\"frequency_classical\"].value_counts().index, dataset_raw_df[\"frequency_classical\"].value_counts())"
   ]
  },
  {
   "cell_type": "code",
   "execution_count": 10,
   "metadata": {},
   "outputs": [
    {
     "data": {
      "image/png": "[encoded data removed]",
      "text/plain": [
       "<Figure size 800x640 with 1 Axes>"
      ]
     },
     "metadata": {},
     "output_type": "display_data"
    },
    {
     "data": {
      "image/png": "[encoded data removed]",
      "text/plain": [
       "<Figure size 800x640 with 1 Axes>"
      ]
     },
     "metadata": {},
     "output_type": "display_data"
    }
   ],
   "source": [
    "plot_box(dataset_raw_df, \"hours_per_day\")\n",
    "plot_box(dataset_raw_df, \"bpm\")\n"
   ]
  },
  {
   "cell_type": "code",
   "execution_count": 11,
   "metadata": {},
   "outputs": [
    {
     "ename": "TypeError",
     "evalue": "bar() missing 1 required positional argument: 'height'",
     "output_type": "error",
     "traceback": [
      "\u001b[0;31m---------------------------------------------------------------------------\u001b[0m",
      "\u001b[0;31mTypeError\u001b[0m                                 Traceback (most recent call last)",
      "Cell \u001b[0;32mIn[11], line 1\u001b[0m\n\u001b[0;32m----> 1\u001b[0m \u001b[43mplot_bar\u001b[49m\u001b[43m(\u001b[49m\u001b[43mdataset_raw_df\u001b[49m\u001b[43m,\u001b[49m\u001b[43m \u001b[49m\u001b[38;5;124;43m\"\u001b[39;49m\u001b[38;5;124;43mfrequency_classical\u001b[39;49m\u001b[38;5;124;43m\"\u001b[39;49m\u001b[43m)\u001b[49m\n",
      "Cell \u001b[0;32mIn[7], line 17\u001b[0m, in \u001b[0;36mplot_bar\u001b[0;34m(df, x_col)\u001b[0m\n\u001b[1;32m     14\u001b[0m \u001b[38;5;28;01mdef\u001b[39;00m \u001b[38;5;21mplot_bar\u001b[39m(df, x_col):\n\u001b[1;32m     16\u001b[0m     plt\u001b[38;5;241m.\u001b[39mfigure(figsize\u001b[38;5;241m=\u001b[39m(\u001b[38;5;241m8\u001b[39m, \u001b[38;5;241m8\u001b[39m), dpi\u001b[38;5;241m=\u001b[39m\u001b[38;5;241m80\u001b[39m)\n\u001b[0;32m---> 17\u001b[0m     \u001b[43mplt\u001b[49m\u001b[38;5;241;43m.\u001b[39;49m\u001b[43mbar\u001b[49m\u001b[43m(\u001b[49m\u001b[43mdf\u001b[49m\u001b[43m[\u001b[49m\u001b[43mx_col\u001b[49m\u001b[43m]\u001b[49m\u001b[43m)\u001b[49m\n\u001b[1;32m     18\u001b[0m     plt\u001b[38;5;241m.\u001b[39mtitle(\u001b[38;5;124mf\u001b[39m\u001b[38;5;124m\"\u001b[39m\u001b[38;5;124mBar Plot of \u001b[39m\u001b[38;5;132;01m{\u001b[39;00mx_col\u001b[38;5;132;01m}\u001b[39;00m\u001b[38;5;124m\"\u001b[39m)\n\u001b[1;32m     19\u001b[0m     plt\u001b[38;5;241m.\u001b[39mshow()\n",
      "\u001b[0;31mTypeError\u001b[0m: bar() missing 1 required positional argument: 'height'"
     ]
    },
    {
     "data": {
      "text/plain": [
       "<Figure size 640x640 with 0 Axes>"
      ]
     },
     "metadata": {},
     "output_type": "display_data"
    }
   ],
   "source": [
    "plot_bar(dataset_raw_df, \"frequency_classical\")"
   ]
  },
  {
   "cell_type": "code",
   "execution_count": 12,
   "metadata": {},
   "outputs": [
    {
     "data": {
      "image/png": "[encoded data removed]",
      "text/plain": [
       "<Figure size 640x640 with 1 Axes>"
      ]
     },
     "metadata": {},
     "output_type": "display_data"
    },
    {
     "data": {
      "image/png": "[encoded data removed]",
      "text/plain": [
       "<Figure size 640x640 with 1 Axes>"
      ]
     },
     "metadata": {},
     "output_type": "display_data"
    },
    {
     "data": {
      "image/png": "[encoded data removed]",
      "text/plain": [
       "<Figure size 640x640 with 1 Axes>"
      ]
     },
     "metadata": {},
     "output_type": "display_data"
    },
    {
     "data": {
      "image/png": "[encoded data removed]",
      "text/plain": [
       "<Figure size 640x640 with 1 Axes>"
      ]
     },
     "metadata": {},
     "output_type": "display_data"
    }
   ],
   "source": [
    "plot_scatter_plot(dataset_raw_df, \"hours_per_day\", \"anxiety\")\n",
    "plot_scatter_plot(dataset_raw_df, \"hours_per_day\", \"depression\")\n",
    "plot_scatter_plot(dataset_raw_df, \"hours_per_day\", \"insomnia\")\n",
    "plot_scatter_plot(dataset_raw_df, \"hours_per_day\", \"ocd\")"
   ]
  },
  {
   "cell_type": "code",
   "execution_count": 13,
   "metadata": {},
   "outputs": [
    {
     "data": {
      "image/png": "[encoded data removed]",
      "text/plain": [
       "<Figure size 640x640 with 1 Axes>"
      ]
     },
     "metadata": {},
     "output_type": "display_data"
    }
   ],
   "source": [
    "plot_hist(dataset_raw_df, \"age\")"
   ]
  },
  {
   "cell_type": "code",
   "execution_count": 14,
   "metadata": {},
   "outputs": [
    {
     "ename": "TypeError",
     "evalue": "ufunc 'divide' not supported for the input types, and the inputs could not be safely coerced to any supported types according to the casting rule ''safe''",
     "output_type": "error",
     "traceback": [
      "\u001b[0;31m---------------------------------------------------------------------------\u001b[0m",
      "\u001b[0;31mTypeError\u001b[0m                                 Traceback (most recent call last)",
      "Cell \u001b[0;32mIn[14], line 1\u001b[0m\n\u001b[0;32m----> 1\u001b[0m \u001b[43mplt\u001b[49m\u001b[38;5;241;43m.\u001b[39;49m\u001b[43mboxplot\u001b[49m\u001b[43m(\u001b[49m\u001b[43mdataset_raw_df\u001b[49m\u001b[43m[\u001b[49m\u001b[43m[\u001b[49m\u001b[38;5;124;43m\"\u001b[39;49m\u001b[38;5;124;43mfrequency_classical\u001b[39;49m\u001b[38;5;124;43m\"\u001b[39;49m\u001b[43m,\u001b[49m\u001b[43m \u001b[49m\u001b[38;5;124;43m\"\u001b[39;49m\u001b[38;5;124;43manxiety\u001b[39;49m\u001b[38;5;124;43m\"\u001b[39;49m\u001b[43m]\u001b[49m\u001b[43m]\u001b[49m\u001b[43m)\u001b[49m\n",
      "File \u001b[0;32m~/anaconda3/envs/spring_2024_viz_project/lib/python3.12/site-packages/matplotlib/pyplot.py:2848\u001b[0m, in \u001b[0;36mboxplot\u001b[0;34m(x, notch, sym, vert, whis, positions, widths, patch_artist, bootstrap, usermedians, conf_intervals, meanline, showmeans, showcaps, showbox, showfliers, boxprops, labels, flierprops, medianprops, meanprops, capprops, whiskerprops, manage_ticks, autorange, zorder, capwidths, data)\u001b[0m\n\u001b[1;32m   2816\u001b[0m \u001b[38;5;129m@_copy_docstring_and_deprecators\u001b[39m(Axes\u001b[38;5;241m.\u001b[39mboxplot)\n\u001b[1;32m   2817\u001b[0m \u001b[38;5;28;01mdef\u001b[39;00m \u001b[38;5;21mboxplot\u001b[39m(\n\u001b[1;32m   2818\u001b[0m     x: ArrayLike \u001b[38;5;241m|\u001b[39m Sequence[ArrayLike],\n\u001b[0;32m   (...)\u001b[0m\n\u001b[1;32m   2846\u001b[0m     data\u001b[38;5;241m=\u001b[39m\u001b[38;5;28;01mNone\u001b[39;00m,\n\u001b[1;32m   2847\u001b[0m ) \u001b[38;5;241m-\u001b[39m\u001b[38;5;241m>\u001b[39m \u001b[38;5;28mdict\u001b[39m[\u001b[38;5;28mstr\u001b[39m, Any]:\n\u001b[0;32m-> 2848\u001b[0m     \u001b[38;5;28;01mreturn\u001b[39;00m \u001b[43mgca\u001b[49m\u001b[43m(\u001b[49m\u001b[43m)\u001b[49m\u001b[38;5;241;43m.\u001b[39;49m\u001b[43mboxplot\u001b[49m\u001b[43m(\u001b[49m\n\u001b[1;32m   2849\u001b[0m \u001b[43m        \u001b[49m\u001b[43mx\u001b[49m\u001b[43m,\u001b[49m\n\u001b[1;32m   2850\u001b[0m \u001b[43m        \u001b[49m\u001b[43mnotch\u001b[49m\u001b[38;5;241;43m=\u001b[39;49m\u001b[43mnotch\u001b[49m\u001b[43m,\u001b[49m\n\u001b[1;32m   2851\u001b[0m \u001b[43m        \u001b[49m\u001b[43msym\u001b[49m\u001b[38;5;241;43m=\u001b[39;49m\u001b[43msym\u001b[49m\u001b[43m,\u001b[49m\n\u001b[1;32m   2852\u001b[0m \u001b[43m        \u001b[49m\u001b[43mvert\u001b[49m\u001b[38;5;241;43m=\u001b[39;49m\u001b[43mvert\u001b[49m\u001b[43m,\u001b[49m\n\u001b[1;32m   2853\u001b[0m \u001b[43m        \u001b[49m\u001b[43mwhis\u001b[49m\u001b[38;5;241;43m=\u001b[39;49m\u001b[43mwhis\u001b[49m\u001b[43m,\u001b[49m\n\u001b[1;32m   2854\u001b[0m \u001b[43m        \u001b[49m\u001b[43mpositions\u001b[49m\u001b[38;5;241;43m=\u001b[39;49m\u001b[43mpositions\u001b[49m\u001b[43m,\u001b[49m\n\u001b[1;32m   2855\u001b[0m \u001b[43m        \u001b[49m\u001b[43mwidths\u001b[49m\u001b[38;5;241;43m=\u001b[39;49m\u001b[43mwidths\u001b[49m\u001b[43m,\u001b[49m\n\u001b[1;32m   2856\u001b[0m \u001b[43m        \u001b[49m\u001b[43mpatch_artist\u001b[49m\u001b[38;5;241;43m=\u001b[39;49m\u001b[43mpatch_artist\u001b[49m\u001b[43m,\u001b[49m\n\u001b[1;32m   2857\u001b[0m \u001b[43m        \u001b[49m\u001b[43mbootstrap\u001b[49m\u001b[38;5;241;43m=\u001b[39;49m\u001b[43mbootstrap\u001b[49m\u001b[43m,\u001b[49m\n\u001b[1;32m   2858\u001b[0m \u001b[43m        \u001b[49m\u001b[43musermedians\u001b[49m\u001b[38;5;241;43m=\u001b[39;49m\u001b[43musermedians\u001b[49m\u001b[43m,\u001b[49m\n\u001b[1;32m   2859\u001b[0m \u001b[43m        \u001b[49m\u001b[43mconf_intervals\u001b[49m\u001b[38;5;241;43m=\u001b[39;49m\u001b[43mconf_intervals\u001b[49m\u001b[43m,\u001b[49m\n\u001b[1;32m   2860\u001b[0m \u001b[43m        \u001b[49m\u001b[43mmeanline\u001b[49m\u001b[38;5;241;43m=\u001b[39;49m\u001b[43mmeanline\u001b[49m\u001b[43m,\u001b[49m\n\u001b[1;32m   2861\u001b[0m \u001b[43m        \u001b[49m\u001b[43mshowmeans\u001b[49m\u001b[38;5;241;43m=\u001b[39;49m\u001b[43mshowmeans\u001b[49m\u001b[43m,\u001b[49m\n\u001b[1;32m   2862\u001b[0m \u001b[43m        \u001b[49m\u001b[43mshowcaps\u001b[49m\u001b[38;5;241;43m=\u001b[39;49m\u001b[43mshowcaps\u001b[49m\u001b[43m,\u001b[49m\n\u001b[1;32m   2863\u001b[0m \u001b[43m        \u001b[49m\u001b[43mshowbox\u001b[49m\u001b[38;5;241;43m=\u001b[39;49m\u001b[43mshowbox\u001b[49m\u001b[43m,\u001b[49m\n\u001b[1;32m   2864\u001b[0m \u001b[43m        \u001b[49m\u001b[43mshowfliers\u001b[49m\u001b[38;5;241;43m=\u001b[39;49m\u001b[43mshowfliers\u001b[49m\u001b[43m,\u001b[49m\n\u001b[1;32m   2865\u001b[0m \u001b[43m        \u001b[49m\u001b[43mboxprops\u001b[49m\u001b[38;5;241;43m=\u001b[39;49m\u001b[43mboxprops\u001b[49m\u001b[43m,\u001b[49m\n\u001b[1;32m   2866\u001b[0m \u001b[43m        \u001b[49m\u001b[43mlabels\u001b[49m\u001b[38;5;241;43m=\u001b[39;49m\u001b[43mlabels\u001b[49m\u001b[43m,\u001b[49m\n\u001b[1;32m   2867\u001b[0m \u001b[43m        \u001b[49m\u001b[43mflierprops\u001b[49m\u001b[38;5;241;43m=\u001b[39;49m\u001b[43mflierprops\u001b[49m\u001b[43m,\u001b[49m\n\u001b[1;32m   2868\u001b[0m \u001b[43m        \u001b[49m\u001b[43mmedianprops\u001b[49m\u001b[38;5;241;43m=\u001b[39;49m\u001b[43mmedianprops\u001b[49m\u001b[43m,\u001b[49m\n\u001b[1;32m   2869\u001b[0m \u001b[43m        \u001b[49m\u001b[43mmeanprops\u001b[49m\u001b[38;5;241;43m=\u001b[39;49m\u001b[43mmeanprops\u001b[49m\u001b[43m,\u001b[49m\n\u001b[1;32m   2870\u001b[0m \u001b[43m        \u001b[49m\u001b[43mcapprops\u001b[49m\u001b[38;5;241;43m=\u001b[39;49m\u001b[43mcapprops\u001b[49m\u001b[43m,\u001b[49m\n\u001b[1;32m   2871\u001b[0m \u001b[43m        \u001b[49m\u001b[43mwhiskerprops\u001b[49m\u001b[38;5;241;43m=\u001b[39;49m\u001b[43mwhiskerprops\u001b[49m\u001b[43m,\u001b[49m\n\u001b[1;32m   2872\u001b[0m \u001b[43m        \u001b[49m\u001b[43mmanage_ticks\u001b[49m\u001b[38;5;241;43m=\u001b[39;49m\u001b[43mmanage_ticks\u001b[49m\u001b[43m,\u001b[49m\n\u001b[1;32m   2873\u001b[0m \u001b[43m        \u001b[49m\u001b[43mautorange\u001b[49m\u001b[38;5;241;43m=\u001b[39;49m\u001b[43mautorange\u001b[49m\u001b[43m,\u001b[49m\n\u001b[1;32m   2874\u001b[0m \u001b[43m        \u001b[49m\u001b[43mzorder\u001b[49m\u001b[38;5;241;43m=\u001b[39;49m\u001b[43mzorder\u001b[49m\u001b[43m,\u001b[49m\n\u001b[1;32m   2875\u001b[0m \u001b[43m        \u001b[49m\u001b[43mcapwidths\u001b[49m\u001b[38;5;241;43m=\u001b[39;49m\u001b[43mcapwidths\u001b[49m\u001b[43m,\u001b[49m\n\u001b[1;32m   2876\u001b[0m \u001b[43m        \u001b[49m\u001b[38;5;241;43m*\u001b[39;49m\u001b[38;5;241;43m*\u001b[39;49m\u001b[43m(\u001b[49m\u001b[43m{\u001b[49m\u001b[38;5;124;43m\"\u001b[39;49m\u001b[38;5;124;43mdata\u001b[39;49m\u001b[38;5;124;43m\"\u001b[39;49m\u001b[43m:\u001b[49m\u001b[43m \u001b[49m\u001b[43mdata\u001b[49m\u001b[43m}\u001b[49m\u001b[43m \u001b[49m\u001b[38;5;28;43;01mif\u001b[39;49;00m\u001b[43m \u001b[49m\u001b[43mdata\u001b[49m\u001b[43m \u001b[49m\u001b[38;5;129;43;01mis\u001b[39;49;00m\u001b[43m \u001b[49m\u001b[38;5;129;43;01mnot\u001b[39;49;00m\u001b[43m \u001b[49m\u001b[38;5;28;43;01mNone\u001b[39;49;00m\u001b[43m \u001b[49m\u001b[38;5;28;43;01melse\u001b[39;49;00m\u001b[43m \u001b[49m\u001b[43m{\u001b[49m\u001b[43m}\u001b[49m\u001b[43m)\u001b[49m\u001b[43m,\u001b[49m\n\u001b[1;32m   2877\u001b[0m \u001b[43m    \u001b[49m\u001b[43m)\u001b[49m\n",
      "File \u001b[0;32m~/anaconda3/envs/spring_2024_viz_project/lib/python3.12/site-packages/matplotlib/__init__.py:1465\u001b[0m, in \u001b[0;36m_preprocess_data.<locals>.inner\u001b[0;34m(ax, data, *args, **kwargs)\u001b[0m\n\u001b[1;32m   1462\u001b[0m \u001b[38;5;129m@functools\u001b[39m\u001b[38;5;241m.\u001b[39mwraps(func)\n\u001b[1;32m   1463\u001b[0m \u001b[38;5;28;01mdef\u001b[39;00m \u001b[38;5;21minner\u001b[39m(ax, \u001b[38;5;241m*\u001b[39margs, data\u001b[38;5;241m=\u001b[39m\u001b[38;5;28;01mNone\u001b[39;00m, \u001b[38;5;241m*\u001b[39m\u001b[38;5;241m*\u001b[39mkwargs):\n\u001b[1;32m   1464\u001b[0m     \u001b[38;5;28;01mif\u001b[39;00m data \u001b[38;5;129;01mis\u001b[39;00m \u001b[38;5;28;01mNone\u001b[39;00m:\n\u001b[0;32m-> 1465\u001b[0m         \u001b[38;5;28;01mreturn\u001b[39;00m \u001b[43mfunc\u001b[49m\u001b[43m(\u001b[49m\u001b[43max\u001b[49m\u001b[43m,\u001b[49m\u001b[43m \u001b[49m\u001b[38;5;241;43m*\u001b[39;49m\u001b[38;5;28;43mmap\u001b[39;49m\u001b[43m(\u001b[49m\u001b[43msanitize_sequence\u001b[49m\u001b[43m,\u001b[49m\u001b[43m \u001b[49m\u001b[43margs\u001b[49m\u001b[43m)\u001b[49m\u001b[43m,\u001b[49m\u001b[43m \u001b[49m\u001b[38;5;241;43m*\u001b[39;49m\u001b[38;5;241;43m*\u001b[39;49m\u001b[43mkwargs\u001b[49m\u001b[43m)\u001b[49m\n\u001b[1;32m   1467\u001b[0m     bound \u001b[38;5;241m=\u001b[39m new_sig\u001b[38;5;241m.\u001b[39mbind(ax, \u001b[38;5;241m*\u001b[39margs, \u001b[38;5;241m*\u001b[39m\u001b[38;5;241m*\u001b[39mkwargs)\n\u001b[1;32m   1468\u001b[0m     auto_label \u001b[38;5;241m=\u001b[39m (bound\u001b[38;5;241m.\u001b[39marguments\u001b[38;5;241m.\u001b[39mget(label_namer)\n\u001b[1;32m   1469\u001b[0m                   \u001b[38;5;129;01mor\u001b[39;00m bound\u001b[38;5;241m.\u001b[39mkwargs\u001b[38;5;241m.\u001b[39mget(label_namer))\n",
      "File \u001b[0;32m~/anaconda3/envs/spring_2024_viz_project/lib/python3.12/site-packages/matplotlib/axes/_axes.py:3950\u001b[0m, in \u001b[0;36mAxes.boxplot\u001b[0;34m(self, x, notch, sym, vert, whis, positions, widths, patch_artist, bootstrap, usermedians, conf_intervals, meanline, showmeans, showcaps, showbox, showfliers, boxprops, labels, flierprops, medianprops, meanprops, capprops, whiskerprops, manage_ticks, autorange, zorder, capwidths)\u001b[0m\n\u001b[1;32m   3947\u001b[0m \u001b[38;5;28;01mif\u001b[39;00m bootstrap \u001b[38;5;129;01mis\u001b[39;00m \u001b[38;5;28;01mNone\u001b[39;00m:\n\u001b[1;32m   3948\u001b[0m     bootstrap \u001b[38;5;241m=\u001b[39m mpl\u001b[38;5;241m.\u001b[39mrcParams[\u001b[38;5;124m'\u001b[39m\u001b[38;5;124mboxplot.bootstrap\u001b[39m\u001b[38;5;124m'\u001b[39m]\n\u001b[0;32m-> 3950\u001b[0m bxpstats \u001b[38;5;241m=\u001b[39m \u001b[43mcbook\u001b[49m\u001b[38;5;241;43m.\u001b[39;49m\u001b[43mboxplot_stats\u001b[49m\u001b[43m(\u001b[49m\u001b[43mx\u001b[49m\u001b[43m,\u001b[49m\u001b[43m \u001b[49m\u001b[43mwhis\u001b[49m\u001b[38;5;241;43m=\u001b[39;49m\u001b[43mwhis\u001b[49m\u001b[43m,\u001b[49m\u001b[43m \u001b[49m\u001b[43mbootstrap\u001b[49m\u001b[38;5;241;43m=\u001b[39;49m\u001b[43mbootstrap\u001b[49m\u001b[43m,\u001b[49m\n\u001b[1;32m   3951\u001b[0m \u001b[43m                               \u001b[49m\u001b[43mlabels\u001b[49m\u001b[38;5;241;43m=\u001b[39;49m\u001b[43mlabels\u001b[49m\u001b[43m,\u001b[49m\u001b[43m \u001b[49m\u001b[43mautorange\u001b[49m\u001b[38;5;241;43m=\u001b[39;49m\u001b[43mautorange\u001b[49m\u001b[43m)\u001b[49m\n\u001b[1;32m   3952\u001b[0m \u001b[38;5;28;01mif\u001b[39;00m notch \u001b[38;5;129;01mis\u001b[39;00m \u001b[38;5;28;01mNone\u001b[39;00m:\n\u001b[1;32m   3953\u001b[0m     notch \u001b[38;5;241m=\u001b[39m mpl\u001b[38;5;241m.\u001b[39mrcParams[\u001b[38;5;124m'\u001b[39m\u001b[38;5;124mboxplot.notch\u001b[39m\u001b[38;5;124m'\u001b[39m]\n",
      "File \u001b[0;32m~/anaconda3/envs/spring_2024_viz_project/lib/python3.12/site-packages/matplotlib/cbook.py:1242\u001b[0m, in \u001b[0;36mboxplot_stats\u001b[0;34m(X, whis, bootstrap, labels, autorange)\u001b[0m\n\u001b[1;32m   1239\u001b[0m x \u001b[38;5;241m=\u001b[39m np\u001b[38;5;241m.\u001b[39masarray(x)\n\u001b[1;32m   1241\u001b[0m \u001b[38;5;66;03m# arithmetic mean\u001b[39;00m\n\u001b[0;32m-> 1242\u001b[0m stats[\u001b[38;5;124m'\u001b[39m\u001b[38;5;124mmean\u001b[39m\u001b[38;5;124m'\u001b[39m] \u001b[38;5;241m=\u001b[39m \u001b[43mnp\u001b[49m\u001b[38;5;241;43m.\u001b[39;49m\u001b[43mmean\u001b[49m\u001b[43m(\u001b[49m\u001b[43mx\u001b[49m\u001b[43m)\u001b[49m\n\u001b[1;32m   1244\u001b[0m \u001b[38;5;66;03m# medians and quartiles\u001b[39;00m\n\u001b[1;32m   1245\u001b[0m q1, med, q3 \u001b[38;5;241m=\u001b[39m np\u001b[38;5;241m.\u001b[39mpercentile(x, [\u001b[38;5;241m25\u001b[39m, \u001b[38;5;241m50\u001b[39m, \u001b[38;5;241m75\u001b[39m])\n",
      "File \u001b[0;32m~/anaconda3/envs/spring_2024_viz_project/lib/python3.12/site-packages/numpy/core/fromnumeric.py:3504\u001b[0m, in \u001b[0;36mmean\u001b[0;34m(a, axis, dtype, out, keepdims, where)\u001b[0m\n\u001b[1;32m   3501\u001b[0m     \u001b[38;5;28;01melse\u001b[39;00m:\n\u001b[1;32m   3502\u001b[0m         \u001b[38;5;28;01mreturn\u001b[39;00m mean(axis\u001b[38;5;241m=\u001b[39maxis, dtype\u001b[38;5;241m=\u001b[39mdtype, out\u001b[38;5;241m=\u001b[39mout, \u001b[38;5;241m*\u001b[39m\u001b[38;5;241m*\u001b[39mkwargs)\n\u001b[0;32m-> 3504\u001b[0m \u001b[38;5;28;01mreturn\u001b[39;00m \u001b[43m_methods\u001b[49m\u001b[38;5;241;43m.\u001b[39;49m\u001b[43m_mean\u001b[49m\u001b[43m(\u001b[49m\u001b[43ma\u001b[49m\u001b[43m,\u001b[49m\u001b[43m \u001b[49m\u001b[43maxis\u001b[49m\u001b[38;5;241;43m=\u001b[39;49m\u001b[43maxis\u001b[49m\u001b[43m,\u001b[49m\u001b[43m \u001b[49m\u001b[43mdtype\u001b[49m\u001b[38;5;241;43m=\u001b[39;49m\u001b[43mdtype\u001b[49m\u001b[43m,\u001b[49m\n\u001b[1;32m   3505\u001b[0m \u001b[43m                      \u001b[49m\u001b[43mout\u001b[49m\u001b[38;5;241;43m=\u001b[39;49m\u001b[43mout\u001b[49m\u001b[43m,\u001b[49m\u001b[43m \u001b[49m\u001b[38;5;241;43m*\u001b[39;49m\u001b[38;5;241;43m*\u001b[39;49m\u001b[43mkwargs\u001b[49m\u001b[43m)\u001b[49m\n",
      "File \u001b[0;32m~/anaconda3/envs/spring_2024_viz_project/lib/python3.12/site-packages/numpy/core/_methods.py:131\u001b[0m, in \u001b[0;36m_mean\u001b[0;34m(a, axis, dtype, out, keepdims, where)\u001b[0m\n\u001b[1;32m    129\u001b[0m         ret \u001b[38;5;241m=\u001b[39m ret\u001b[38;5;241m.\u001b[39mdtype\u001b[38;5;241m.\u001b[39mtype(ret \u001b[38;5;241m/\u001b[39m rcount)\n\u001b[1;32m    130\u001b[0m \u001b[38;5;28;01melse\u001b[39;00m:\n\u001b[0;32m--> 131\u001b[0m     ret \u001b[38;5;241m=\u001b[39m \u001b[43mret\u001b[49m\u001b[43m \u001b[49m\u001b[38;5;241;43m/\u001b[39;49m\u001b[43m \u001b[49m\u001b[43mrcount\u001b[49m\n\u001b[1;32m    133\u001b[0m \u001b[38;5;28;01mreturn\u001b[39;00m ret\n",
      "\u001b[0;31mTypeError\u001b[0m: ufunc 'divide' not supported for the input types, and the inputs could not be safely coerced to any supported types according to the casting rule ''safe''"
     ]
    },
    {
     "data": {
      "image/png": "[encoded data removed]",
      "text/plain": [
       "<Figure size 640x480 with 1 Axes>"
      ]
     },
     "metadata": {},
     "output_type": "display_data"
    }
   ],
   "source": [
    "plt.boxplot(dataset_raw_df[[\"frequency_classical\", \"anxiety\"]])"
   ]
  },
  {
   "cell_type": "code",
   "execution_count": 15,
   "metadata": {},
   "outputs": [
    {
     "data": {
      "text/plain": [
       "Index(['age', 'primary_streaming_service', 'hours_per_day', 'while_working',\n",
       "       'instrumentalist', 'composer', 'fav_genre', 'exploratory',\n",
       "       'foreign_languages', 'bpm', 'frequency_classical', 'frequency_country',\n",
       "       'frequency_edm', 'frequency_folk', 'frequency_gospel',\n",
       "       'frequency_hip_hop', 'frequency_jazz', 'frequency_k_pop',\n",
       "       'frequency_latin', 'frequency_lofi', 'frequency_metal', 'frequency_pop',\n",
       "       'frequency_r&b', 'frequency_rap', 'frequency_rock',\n",
       "       'frequency_video_game_music', 'anxiety', 'depression', 'insomnia',\n",
       "       'ocd', 'music_effects'],\n",
       "      dtype='object')"
      ]
     },
     "execution_count": 15,
     "metadata": {},
     "output_type": "execute_result"
    }
   ],
   "source": [
    "dataset_raw_df.columns"
   ]
  },
  {
   "cell_type": "code",
   "execution_count": 16,
   "metadata": {},
   "outputs": [
    {
     "data": {
      "text/plain": [
       "['Never', 'Sometimes', 'Rarely', 'Very frequently']"
      ]
     },
     "execution_count": 16,
     "metadata": {},
     "output_type": "execute_result"
    }
   ],
   "source": [
    "dataset_raw_df.frequency_classical.unique().tolist()"
   ]
  },
  {
   "cell_type": "code",
   "execution_count": 75,
   "metadata": {},
   "outputs": [
    {
     "data": {
      "image/png": "[encoded data removed]",
      "text/plain": [
       "<Figure size 1000x600 with 1 Axes>"
      ]
     },
     "metadata": {},
     "output_type": "display_data"
    }
   ],
   "source": [
    "import seaborn as sns\n",
    "import matplotlib.pyplot as plt\n",
    "\n",
    "# Assuming your DataFrame is called 'df'\n",
    "\n",
    "box_column = \"fav_genre\"\n",
    "# Set the order of categories for the frequency of genre column\n",
    "freq_order = dataset_raw_df[box_column].unique().tolist() #['Never', 'Rarely', 'Sometimes', 'Very frequently']\n",
    "\n",
    "# Create a box plot\n",
    "plt.figure(figsize=(10, 6))\n",
    "sns.boxplot(x=box_column, y='anxiety', data=dataset_raw_df, order=freq_order)\n",
    "\n",
    "# Add labels and title\n",
    "plt.title('Anxiety Scores by Frequency of Favorite Music Genre')\n",
    "plt.xlabel('Frequency of Favorite Music Genre')\n",
    "plt.ylabel('Anxiety Score (1-10)')\n",
    "\n",
    "# Show the plot\n",
    "plt.show()\n"
   ]
  },
  {
   "cell_type": "code",
   "execution_count": 21,
   "metadata": {},
   "outputs": [
    {
     "data": {
      "application/vnd.plotly.v1+json": {
       "config": {
        "plotlyServerURL": "https://plot.ly"
       },
       "data": [
        {
         "hovertemplate": "r=%{r}<br>theta=%{theta}<extra></extra>",
         "legendgroup": "",
         "line": {
          "color": "#636efa",
          "dash": "solid"
         },
         "marker": {
          "symbol": "circle"
         },
         "mode": "lines",
         "name": "",
         "r": [
          1,
          5,
          2,
          2,
          3,
          1
         ],
         "showlegend": false,
         "subplot": "polar",
         "theta": [
          "processing cost",
          "mechanical properties",
          "chemical stability",
          "thermal stability",
          "device integration",
          "processing cost"
         ],
         "type": "scatterpolar"
        }
       ],
       "layout": {
        "legend": {
         "tracegroupgap": 0
        },
        "margin": {
         "t": 60
        },
        "polar": {
         "angularaxis": {
          "direction": "clockwise",
          "rotation": 90
         },
         "domain": {
          "x": [
           0,
           1
          ],
          "y": [
           0,
           1
          ]
         }
        },
        "template": {
         "data": {
          "bar": [
           {
            "error_x": {
             "color": "#2a3f5f"
            },
            "error_y": {
             "color": "#2a3f5f"
            },
            "marker": {
             "line": {
              "color": "#E5ECF6",
              "width": 0.5
             },
             "pattern": {
              "fillmode": "overlay",
              "size": 10,
              "solidity": 0.2
             }
            },
            "type": "bar"
           }
          ],
          "barpolar": [
           {
            "marker": {
             "line": {
              "color": "#E5ECF6",
              "width": 0.5
             },
             "pattern": {
              "fillmode": "overlay",
              "size": 10,
              "solidity": 0.2
             }
            },
            "type": "barpolar"
           }
          ],
          "carpet": [
           {
            "aaxis": {
             "endlinecolor": "#2a3f5f",
             "gridcolor": "white",
             "linecolor": "white",
             "minorgridcolor": "white",
             "startlinecolor": "#2a3f5f"
            },
            "baxis": {
             "endlinecolor": "#2a3f5f",
             "gridcolor": "white",
             "linecolor": "white",
             "minorgridcolor": "white",
             "startlinecolor": "#2a3f5f"
            },
            "type": "carpet"
           }
          ],
          "choropleth": [
           {
            "colorbar": {
             "outlinewidth": 0,
             "ticks": ""
            },
            "type": "choropleth"
           }
          ],
          "contour": [
           {
            "colorbar": {
             "outlinewidth": 0,
             "ticks": ""
            },
            "colorscale": [
             [
              0,
              "#0d0887"
             ],
             [
              0.1111111111111111,
              "#46039f"
             ],
             [
              0.2222222222222222,
              "#7201a8"
             ],
             [
              0.3333333333333333,
              "#9c179e"
             ],
             [
              0.4444444444444444,
              "#bd3786"
             ],
             [
              0.5555555555555556,
              "#d8576b"
             ],
             [
              0.6666666666666666,
              "#ed7953"
             ],
             [
              0.7777777777777778,
              "#fb9f3a"
             ],
             [
              0.8888888888888888,
              "#fdca26"
             ],
             [
              1,
              "#f0f921"
             ]
            ],
            "type": "contour"
           }
          ],
          "contourcarpet": [
           {
            "colorbar": {
             "outlinewidth": 0,
             "ticks": ""
            },
            "type": "contourcarpet"
           }
          ],
          "heatmap": [
           {
            "colorbar": {
             "outlinewidth": 0,
             "ticks": ""
            },
            "colorscale": [
             [
              0,
              "#0d0887"
             ],
             [
              0.1111111111111111,
              "#46039f"
             ],
             [
              0.2222222222222222,
              "#7201a8"
             ],
             [
              0.3333333333333333,
              "#9c179e"
             ],
             [
              0.4444444444444444,
              "#bd3786"
             ],
             [
              0.5555555555555556,
              "#d8576b"
             ],
             [
              0.6666666666666666,
              "#ed7953"
             ],
             [
              0.7777777777777778,
              "#fb9f3a"
             ],
             [
              0.8888888888888888,
              "#fdca26"
             ],
             [
              1,
              "#f0f921"
             ]
            ],
            "type": "heatmap"
           }
          ],
          "heatmapgl": [
           {
            "colorbar": {
             "outlinewidth": 0,
             "ticks": ""
            },
            "colorscale": [
             [
              0,
              "#0d0887"
             ],
             [
              0.1111111111111111,
              "#46039f"
             ],
             [
              0.2222222222222222,
              "#7201a8"
             ],
             [
              0.3333333333333333,
              "#9c179e"
             ],
             [
              0.4444444444444444,
              "#bd3786"
             ],
             [
              0.5555555555555556,
              "#d8576b"
             ],
             [
              0.6666666666666666,
              "#ed7953"
             ],
             [
              0.7777777777777778,
              "#fb9f3a"
             ],
             [
              0.8888888888888888,
              "#fdca26"
             ],
             [
              1,
              "#f0f921"
             ]
            ],
            "type": "heatmapgl"
           }
          ],
          "histogram": [
           {
            "marker": {
             "pattern": {
              "fillmode": "overlay",
              "size": 10,
              "solidity": 0.2
             }
            },
            "type": "histogram"
           }
          ],
          "histogram2d": [
           {
            "colorbar": {
             "outlinewidth": 0,
             "ticks": ""
            },
            "colorscale": [
             [
              0,
              "#0d0887"
             ],
             [
              0.1111111111111111,
              "#46039f"
             ],
             [
              0.2222222222222222,
              "#7201a8"
             ],
             [
              0.3333333333333333,
              "#9c179e"
             ],
             [
              0.4444444444444444,
              "#bd3786"
             ],
             [
              0.5555555555555556,
              "#d8576b"
             ],
             [
              0.6666666666666666,
              "#ed7953"
             ],
             [
              0.7777777777777778,
              "#fb9f3a"
             ],
             [
              0.8888888888888888,
              "#fdca26"
             ],
             [
              1,
              "#f0f921"
             ]
            ],
            "type": "histogram2d"
           }
          ],
          "histogram2dcontour": [
           {
            "colorbar": {
             "outlinewidth": 0,
             "ticks": ""
            },
            "colorscale": [
             [
              0,
              "#0d0887"
             ],
             [
              0.1111111111111111,
              "#46039f"
             ],
             [
              0.2222222222222222,
              "#7201a8"
             ],
             [
              0.3333333333333333,
              "#9c179e"
             ],
             [
              0.4444444444444444,
              "#bd3786"
             ],
             [
              0.5555555555555556,
              "#d8576b"
             ],
             [
              0.6666666666666666,
              "#ed7953"
             ],
             [
              0.7777777777777778,
              "#fb9f3a"
             ],
             [
              0.8888888888888888,
              "#fdca26"
             ],
             [
              1,
              "#f0f921"
             ]
            ],
            "type": "histogram2dcontour"
           }
          ],
          "mesh3d": [
           {
            "colorbar": {
             "outlinewidth": 0,
             "ticks": ""
            },
            "type": "mesh3d"
           }
          ],
          "parcoords": [
           {
            "line": {
             "colorbar": {
              "outlinewidth": 0,
              "ticks": ""
             }
            },
            "type": "parcoords"
           }
          ],
          "pie": [
           {
            "automargin": true,
            "type": "pie"
           }
          ],
          "scatter": [
           {
            "fillpattern": {
             "fillmode": "overlay",
             "size": 10,
             "solidity": 0.2
            },
            "type": "scatter"
           }
          ],
          "scatter3d": [
           {
            "line": {
             "colorbar": {
              "outlinewidth": 0,
              "ticks": ""
             }
            },
            "marker": {
             "colorbar": {
              "outlinewidth": 0,
              "ticks": ""
             }
            },
            "type": "scatter3d"
           }
          ],
          "scattercarpet": [
           {
            "marker": {
             "colorbar": {
              "outlinewidth": 0,
              "ticks": ""
             }
            },
            "type": "scattercarpet"
           }
          ],
          "scattergeo": [
           {
            "marker": {
             "colorbar": {
              "outlinewidth": 0,
              "ticks": ""
             }
            },
            "type": "scattergeo"
           }
          ],
          "scattergl": [
           {
            "marker": {
             "colorbar": {
              "outlinewidth": 0,
              "ticks": ""
             }
            },
            "type": "scattergl"
           }
          ],
          "scattermapbox": [
           {
            "marker": {
             "colorbar": {
              "outlinewidth": 0,
              "ticks": ""
             }
            },
            "type": "scattermapbox"
           }
          ],
          "scatterpolar": [
           {
            "marker": {
             "colorbar": {
              "outlinewidth": 0,
              "ticks": ""
             }
            },
            "type": "scatterpolar"
           }
          ],
          "scatterpolargl": [
           {
            "marker": {
             "colorbar": {
              "outlinewidth": 0,
              "ticks": ""
             }
            },
            "type": "scatterpolargl"
           }
          ],
          "scatterternary": [
           {
            "marker": {
             "colorbar": {
              "outlinewidth": 0,
              "ticks": ""
             }
            },
            "type": "scatterternary"
           }
          ],
          "surface": [
           {
            "colorbar": {
             "outlinewidth": 0,
             "ticks": ""
            },
            "colorscale": [
             [
              0,
              "#0d0887"
             ],
             [
              0.1111111111111111,
              "#46039f"
             ],
             [
              0.2222222222222222,
              "#7201a8"
             ],
             [
              0.3333333333333333,
              "#9c179e"
             ],
             [
              0.4444444444444444,
              "#bd3786"
             ],
             [
              0.5555555555555556,
              "#d8576b"
             ],
             [
              0.6666666666666666,
              "#ed7953"
             ],
             [
              0.7777777777777778,
              "#fb9f3a"
             ],
             [
              0.8888888888888888,
              "#fdca26"
             ],
             [
              1,
              "#f0f921"
             ]
            ],
            "type": "surface"
           }
          ],
          "table": [
           {
            "cells": {
             "fill": {
              "color": "#EBF0F8"
             },
             "line": {
              "color": "white"
             }
            },
            "header": {
             "fill": {
              "color": "#C8D4E3"
             },
             "line": {
              "color": "white"
             }
            },
            "type": "table"
           }
          ]
         },
         "layout": {
          "annotationdefaults": {
           "arrowcolor": "#2a3f5f",
           "arrowhead": 0,
           "arrowwidth": 1
          },
          "autotypenumbers": "strict",
          "coloraxis": {
           "colorbar": {
            "outlinewidth": 0,
            "ticks": ""
           }
          },
          "colorscale": {
           "diverging": [
            [
             0,
             "#8e0152"
            ],
            [
             0.1,
             "#c51b7d"
            ],
            [
             0.2,
             "#de77ae"
            ],
            [
             0.3,
             "#f1b6da"
            ],
            [
             0.4,
             "#fde0ef"
            ],
            [
             0.5,
             "#f7f7f7"
            ],
            [
             0.6,
             "#e6f5d0"
            ],
            [
             0.7,
             "#b8e186"
            ],
            [
             0.8,
             "#7fbc41"
            ],
            [
             0.9,
             "#4d9221"
            ],
            [
             1,
             "#276419"
            ]
           ],
           "sequential": [
            [
             0,
             "#0d0887"
            ],
            [
             0.1111111111111111,
             "#46039f"
            ],
            [
             0.2222222222222222,
             "#7201a8"
            ],
            [
             0.3333333333333333,
             "#9c179e"
            ],
            [
             0.4444444444444444,
             "#bd3786"
            ],
            [
             0.5555555555555556,
             "#d8576b"
            ],
            [
             0.6666666666666666,
             "#ed7953"
            ],
            [
             0.7777777777777778,
             "#fb9f3a"
            ],
            [
             0.8888888888888888,
             "#fdca26"
            ],
            [
             1,
             "#f0f921"
            ]
           ],
           "sequentialminus": [
            [
             0,
             "#0d0887"
            ],
            [
             0.1111111111111111,
             "#46039f"
            ],
            [
             0.2222222222222222,
             "#7201a8"
            ],
            [
             0.3333333333333333,
             "#9c179e"
            ],
            [
             0.4444444444444444,
             "#bd3786"
            ],
            [
             0.5555555555555556,
             "#d8576b"
            ],
            [
             0.6666666666666666,
             "#ed7953"
            ],
            [
             0.7777777777777778,
             "#fb9f3a"
            ],
            [
             0.8888888888888888,
             "#fdca26"
            ],
            [
             1,
             "#f0f921"
            ]
           ]
          },
          "colorway": [
           "#636efa",
           "#EF553B",
           "#00cc96",
           "#ab63fa",
           "#FFA15A",
           "#19d3f3",
           "#FF6692",
           "#B6E880",
           "#FF97FF",
           "#FECB52"
          ],
          "font": {
           "color": "#2a3f5f"
          },
          "geo": {
           "bgcolor": "white",
           "lakecolor": "white",
           "landcolor": "#E5ECF6",
           "showlakes": true,
           "showland": true,
           "subunitcolor": "white"
          },
          "hoverlabel": {
           "align": "left"
          },
          "hovermode": "closest",
          "mapbox": {
           "style": "light"
          },
          "paper_bgcolor": "white",
          "plot_bgcolor": "#E5ECF6",
          "polar": {
           "angularaxis": {
            "gridcolor": "white",
            "linecolor": "white",
            "ticks": ""
           },
           "bgcolor": "#E5ECF6",
           "radialaxis": {
            "gridcolor": "white",
            "linecolor": "white",
            "ticks": ""
           }
          },
          "scene": {
           "xaxis": {
            "backgroundcolor": "#E5ECF6",
            "gridcolor": "white",
            "gridwidth": 2,
            "linecolor": "white",
            "showbackground": true,
            "ticks": "",
            "zerolinecolor": "white"
           },
           "yaxis": {
            "backgroundcolor": "#E5ECF6",
            "gridcolor": "white",
            "gridwidth": 2,
            "linecolor": "white",
            "showbackground": true,
            "ticks": "",
            "zerolinecolor": "white"
           },
           "zaxis": {
            "backgroundcolor": "#E5ECF6",
            "gridcolor": "white",
            "gridwidth": 2,
            "linecolor": "white",
            "showbackground": true,
            "ticks": "",
            "zerolinecolor": "white"
           }
          },
          "shapedefaults": {
           "line": {
            "color": "#2a3f5f"
           }
          },
          "ternary": {
           "aaxis": {
            "gridcolor": "white",
            "linecolor": "white",
            "ticks": ""
           },
           "baxis": {
            "gridcolor": "white",
            "linecolor": "white",
            "ticks": ""
           },
           "bgcolor": "#E5ECF6",
           "caxis": {
            "gridcolor": "white",
            "linecolor": "white",
            "ticks": ""
           }
          },
          "title": {
           "x": 0.05
          },
          "xaxis": {
           "automargin": true,
           "gridcolor": "white",
           "linecolor": "white",
           "ticks": "",
           "title": {
            "standoff": 15
           },
           "zerolinecolor": "white",
           "zerolinewidth": 2
          },
          "yaxis": {
           "automargin": true,
           "gridcolor": "white",
           "linecolor": "white",
           "ticks": "",
           "title": {
            "standoff": 15
           },
           "zerolinecolor": "white",
           "zerolinewidth": 2
          }
         }
        }
       }
      }
     },
     "metadata": {},
     "output_type": "display_data"
    }
   ],
   "source": [
    "import plotly.express as px\n",
    "import pandas as pd\n",
    "df = pd.DataFrame(dict(\n",
    "    r=[1, 5, 2, 2, 3],\n",
    "    theta=['processing cost','mechanical properties','chemical stability',\n",
    "           'thermal stability', 'device integration']))\n",
    "\n",
    "fig = px.line_polar(df, r='r', theta='theta', line_close=True)\n",
    "fig.show()"
   ]
  },
  {
   "cell_type": "code",
   "execution_count": 20,
   "metadata": {},
   "outputs": [
    {
     "data": {
      "text/html": [
       "<div>\n",
       "<style scoped>\n",
       "    .dataframe tbody tr th:only-of-type {\n",
       "        vertical-align: middle;\n",
       "    }\n",
       "\n",
       "    .dataframe tbody tr th {\n",
       "        vertical-align: top;\n",
       "    }\n",
       "\n",
       "    .dataframe thead th {\n",
       "        text-align: right;\n",
       "    }\n",
       "</style>\n",
       "<table border=\"1\" class=\"dataframe\">\n",
       "  <thead>\n",
       "    <tr style=\"text-align: right;\">\n",
       "      <th></th>\n",
       "      <th>r</th>\n",
       "      <th>theta</th>\n",
       "    </tr>\n",
       "  </thead>\n",
       "  <tbody>\n",
       "    <tr>\n",
       "      <th>0</th>\n",
       "      <td>1</td>\n",
       "      <td>processing cost</td>\n",
       "    </tr>\n",
       "    <tr>\n",
       "      <th>1</th>\n",
       "      <td>5</td>\n",
       "      <td>mechanical properties</td>\n",
       "    </tr>\n",
       "    <tr>\n",
       "      <th>2</th>\n",
       "      <td>2</td>\n",
       "      <td>chemical stability</td>\n",
       "    </tr>\n",
       "    <tr>\n",
       "      <th>3</th>\n",
       "      <td>2</td>\n",
       "      <td>thermal stability</td>\n",
       "    </tr>\n",
       "    <tr>\n",
       "      <th>4</th>\n",
       "      <td>3</td>\n",
       "      <td>device integration</td>\n",
       "    </tr>\n",
       "  </tbody>\n",
       "</table>\n",
       "</div>"
      ],
      "text/plain": [
       "   r                  theta\n",
       "0  1        processing cost\n",
       "1  5  mechanical properties\n",
       "2  2     chemical stability\n",
       "3  2      thermal stability\n",
       "4  3     device integration"
      ]
     },
     "execution_count": 20,
     "metadata": {},
     "output_type": "execute_result"
    }
   ],
   "source": [
    "df"
   ]
  },
  {
   "cell_type": "code",
   "execution_count": 25,
   "metadata": {},
   "outputs": [
    {
     "data": {
      "text/plain": [
       "Index(['age', 'primary_streaming_service', 'hours_per_day', 'while_working',\n",
       "       'instrumentalist', 'composer', 'fav_genre', 'exploratory',\n",
       "       'foreign_languages', 'bpm', 'frequency_classical', 'frequency_country',\n",
       "       'frequency_edm', 'frequency_folk', 'frequency_gospel',\n",
       "       'frequency_hip_hop', 'frequency_jazz', 'frequency_k_pop',\n",
       "       'frequency_latin', 'frequency_lofi', 'frequency_metal', 'frequency_pop',\n",
       "       'frequency_r&b', 'frequency_rap', 'frequency_rock',\n",
       "       'frequency_video_game_music', 'anxiety', 'depression', 'insomnia',\n",
       "       'ocd', 'music_effects'],\n",
       "      dtype='object')"
      ]
     },
     "execution_count": 25,
     "metadata": {},
     "output_type": "execute_result"
    }
   ],
   "source": [
    "dataset_raw_df.columns"
   ]
  },
  {
   "cell_type": "code",
   "execution_count": 73,
   "metadata": {},
   "outputs": [
    {
     "data": {
      "application/vnd.plotly.v1+json": {
       "config": {
        "plotlyServerURL": "https://plot.ly"
       },
       "data": [
        {
         "hovertemplate": "fav_genre=Classical<br>value=%{r}<br>genre=%{theta}<extra></extra>",
         "legendgroup": "Classical",
         "line": {
          "color": "#636efa",
          "dash": "solid"
         },
         "marker": {
          "symbol": "circle"
         },
         "mode": "lines",
         "name": "Classical",
         "r": [
          5.052631578947368,
          4.368421052631579,
          4,
          2.4473684210526314,
          5.052631578947368
         ],
         "showlegend": true,
         "subplot": "polar",
         "theta": [
          "anxiety",
          "depression",
          "insomnia",
          "ocd",
          "anxiety"
         ],
         "type": "scatterpolar"
        },
        {
         "hovertemplate": "fav_genre=Metal<br>value=%{r}<br>genre=%{theta}<extra></extra>",
         "legendgroup": "Metal",
         "line": {
          "color": "#EF553B",
          "dash": "solid"
         },
         "marker": {
          "symbol": "circle"
         },
         "mode": "lines",
         "name": "Metal",
         "r": [
          5.545454545454546,
          5.194805194805195,
          4.51948051948052,
          2.272727272727273,
          5.545454545454546
         ],
         "showlegend": true,
         "subplot": "polar",
         "theta": [
          "anxiety",
          "depression",
          "insomnia",
          "ocd",
          "anxiety"
         ],
         "type": "scatterpolar"
        },
        {
         "hovertemplate": "fav_genre=Pop<br>value=%{r}<br>genre=%{theta}<extra></extra>",
         "legendgroup": "Pop",
         "line": {
          "color": "#00cc96",
          "dash": "solid"
         },
         "marker": {
          "symbol": "circle"
         },
         "mode": "lines",
         "name": "Pop",
         "r": [
          6.077319587628866,
          4.407216494845361,
          3.2577319587628866,
          2.943298969072165,
          6.077319587628866
         ],
         "showlegend": true,
         "subplot": "polar",
         "theta": [
          "anxiety",
          "depression",
          "insomnia",
          "ocd",
          "anxiety"
         ],
         "type": "scatterpolar"
        },
        {
         "hovertemplate": "fav_genre=Rock<br>value=%{r}<br>genre=%{theta}<extra></extra>",
         "legendgroup": "Rock",
         "line": {
          "color": "#ab63fa",
          "dash": "solid"
         },
         "marker": {
          "symbol": "circle"
         },
         "mode": "lines",
         "name": "Rock",
         "r": [
          6.134228187919463,
          5.379194630872483,
          3.936241610738255,
          2.6946308724832213,
          6.134228187919463
         ],
         "showlegend": true,
         "subplot": "polar",
         "theta": [
          "anxiety",
          "depression",
          "insomnia",
          "ocd",
          "anxiety"
         ],
         "type": "scatterpolar"
        },
        {
         "hovertemplate": "fav_genre=Video game music<br>value=%{r}<br>genre=%{theta}<extra></extra>",
         "legendgroup": "Video game music",
         "line": {
          "color": "#FFA15A",
          "dash": "solid"
         },
         "marker": {
          "symbol": "circle"
         },
         "mode": "lines",
         "name": "Video game music",
         "r": [
          6.388888888888889,
          4.694444444444445,
          4.638888888888889,
          2.6666666666666665,
          6.388888888888889
         ],
         "showlegend": true,
         "subplot": "polar",
         "theta": [
          "anxiety",
          "depression",
          "insomnia",
          "ocd",
          "anxiety"
         ],
         "type": "scatterpolar"
        }
       ],
       "layout": {
        "legend": {
         "title": {
          "text": "fav_genre"
         },
         "tracegroupgap": 0
        },
        "polar": {
         "angularaxis": {
          "direction": "clockwise",
          "rotation": 90
         },
         "domain": {
          "x": [
           0,
           1
          ],
          "y": [
           0,
           1
          ]
         }
        },
        "template": {
         "data": {
          "bar": [
           {
            "error_x": {
             "color": "#2a3f5f"
            },
            "error_y": {
             "color": "#2a3f5f"
            },
            "marker": {
             "line": {
              "color": "#E5ECF6",
              "width": 0.5
             },
             "pattern": {
              "fillmode": "overlay",
              "size": 10,
              "solidity": 0.2
             }
            },
            "type": "bar"
           }
          ],
          "barpolar": [
           {
            "marker": {
             "line": {
              "color": "#E5ECF6",
              "width": 0.5
             },
             "pattern": {
              "fillmode": "overlay",
              "size": 10,
              "solidity": 0.2
             }
            },
            "type": "barpolar"
           }
          ],
          "carpet": [
           {
            "aaxis": {
             "endlinecolor": "#2a3f5f",
             "gridcolor": "white",
             "linecolor": "white",
             "minorgridcolor": "white",
             "startlinecolor": "#2a3f5f"
            },
            "baxis": {
             "endlinecolor": "#2a3f5f",
             "gridcolor": "white",
             "linecolor": "white",
             "minorgridcolor": "white",
             "startlinecolor": "#2a3f5f"
            },
            "type": "carpet"
           }
          ],
          "choropleth": [
           {
            "colorbar": {
             "outlinewidth": 0,
             "ticks": ""
            },
            "type": "choropleth"
           }
          ],
          "contour": [
           {
            "colorbar": {
             "outlinewidth": 0,
             "ticks": ""
            },
            "colorscale": [
             [
              0,
              "#0d0887"
             ],
             [
              0.1111111111111111,
              "#46039f"
             ],
             [
              0.2222222222222222,
              "#7201a8"
             ],
             [
              0.3333333333333333,
              "#9c179e"
             ],
             [
              0.4444444444444444,
              "#bd3786"
             ],
             [
              0.5555555555555556,
              "#d8576b"
             ],
             [
              0.6666666666666666,
              "#ed7953"
             ],
             [
              0.7777777777777778,
              "#fb9f3a"
             ],
             [
              0.8888888888888888,
              "#fdca26"
             ],
             [
              1,
              "#f0f921"
             ]
            ],
            "type": "contour"
           }
          ],
          "contourcarpet": [
           {
            "colorbar": {
             "outlinewidth": 0,
             "ticks": ""
            },
            "type": "contourcarpet"
           }
          ],
          "heatmap": [
           {
            "colorbar": {
             "outlinewidth": 0,
             "ticks": ""
            },
            "colorscale": [
             [
              0,
              "#0d0887"
             ],
             [
              0.1111111111111111,
              "#46039f"
             ],
             [
              0.2222222222222222,
              "#7201a8"
             ],
             [
              0.3333333333333333,
              "#9c179e"
             ],
             [
              0.4444444444444444,
              "#bd3786"
             ],
             [
              0.5555555555555556,
              "#d8576b"
             ],
             [
              0.6666666666666666,
              "#ed7953"
             ],
             [
              0.7777777777777778,
              "#fb9f3a"
             ],
             [
              0.8888888888888888,
              "#fdca26"
             ],
             [
              1,
              "#f0f921"
             ]
            ],
            "type": "heatmap"
           }
          ],
          "heatmapgl": [
           {
            "colorbar": {
             "outlinewidth": 0,
             "ticks": ""
            },
            "colorscale": [
             [
              0,
              "#0d0887"
             ],
             [
              0.1111111111111111,
              "#46039f"
             ],
             [
              0.2222222222222222,
              "#7201a8"
             ],
             [
              0.3333333333333333,
              "#9c179e"
             ],
             [
              0.4444444444444444,
              "#bd3786"
             ],
             [
              0.5555555555555556,
              "#d8576b"
             ],
             [
              0.6666666666666666,
              "#ed7953"
             ],
             [
              0.7777777777777778,
              "#fb9f3a"
             ],
             [
              0.8888888888888888,
              "#fdca26"
             ],
             [
              1,
              "#f0f921"
             ]
            ],
            "type": "heatmapgl"
           }
          ],
          "histogram": [
           {
            "marker": {
             "pattern": {
              "fillmode": "overlay",
              "size": 10,
              "solidity": 0.2
             }
            },
            "type": "histogram"
           }
          ],
          "histogram2d": [
           {
            "colorbar": {
             "outlinewidth": 0,
             "ticks": ""
            },
            "colorscale": [
             [
              0,
              "#0d0887"
             ],
             [
              0.1111111111111111,
              "#46039f"
             ],
             [
              0.2222222222222222,
              "#7201a8"
             ],
             [
              0.3333333333333333,
              "#9c179e"
             ],
             [
              0.4444444444444444,
              "#bd3786"
             ],
             [
              0.5555555555555556,
              "#d8576b"
             ],
             [
              0.6666666666666666,
              "#ed7953"
             ],
             [
              0.7777777777777778,
              "#fb9f3a"
             ],
             [
              0.8888888888888888,
              "#fdca26"
             ],
             [
              1,
              "#f0f921"
             ]
            ],
            "type": "histogram2d"
           }
          ],
          "histogram2dcontour": [
           {
            "colorbar": {
             "outlinewidth": 0,
             "ticks": ""
            },
            "colorscale": [
             [
              0,
              "#0d0887"
             ],
             [
              0.1111111111111111,
              "#46039f"
             ],
             [
              0.2222222222222222,
              "#7201a8"
             ],
             [
              0.3333333333333333,
              "#9c179e"
             ],
             [
              0.4444444444444444,
              "#bd3786"
             ],
             [
              0.5555555555555556,
              "#d8576b"
             ],
             [
              0.6666666666666666,
              "#ed7953"
             ],
             [
              0.7777777777777778,
              "#fb9f3a"
             ],
             [
              0.8888888888888888,
              "#fdca26"
             ],
             [
              1,
              "#f0f921"
             ]
            ],
            "type": "histogram2dcontour"
           }
          ],
          "mesh3d": [
           {
            "colorbar": {
             "outlinewidth": 0,
             "ticks": ""
            },
            "type": "mesh3d"
           }
          ],
          "parcoords": [
           {
            "line": {
             "colorbar": {
              "outlinewidth": 0,
              "ticks": ""
             }
            },
            "type": "parcoords"
           }
          ],
          "pie": [
           {
            "automargin": true,
            "type": "pie"
           }
          ],
          "scatter": [
           {
            "fillpattern": {
             "fillmode": "overlay",
             "size": 10,
             "solidity": 0.2
            },
            "type": "scatter"
           }
          ],
          "scatter3d": [
           {
            "line": {
             "colorbar": {
              "outlinewidth": 0,
              "ticks": ""
             }
            },
            "marker": {
             "colorbar": {
              "outlinewidth": 0,
              "ticks": ""
             }
            },
            "type": "scatter3d"
           }
          ],
          "scattercarpet": [
           {
            "marker": {
             "colorbar": {
              "outlinewidth": 0,
              "ticks": ""
             }
            },
            "type": "scattercarpet"
           }
          ],
          "scattergeo": [
           {
            "marker": {
             "colorbar": {
              "outlinewidth": 0,
              "ticks": ""
             }
            },
            "type": "scattergeo"
           }
          ],
          "scattergl": [
           {
            "marker": {
             "colorbar": {
              "outlinewidth": 0,
              "ticks": ""
             }
            },
            "type": "scattergl"
           }
          ],
          "scattermapbox": [
           {
            "marker": {
             "colorbar": {
              "outlinewidth": 0,
              "ticks": ""
             }
            },
            "type": "scattermapbox"
           }
          ],
          "scatterpolar": [
           {
            "marker": {
             "colorbar": {
              "outlinewidth": 0,
              "ticks": ""
             }
            },
            "type": "scatterpolar"
           }
          ],
          "scatterpolargl": [
           {
            "marker": {
             "colorbar": {
              "outlinewidth": 0,
              "ticks": ""
             }
            },
            "type": "scatterpolargl"
           }
          ],
          "scatterternary": [
           {
            "marker": {
             "colorbar": {
              "outlinewidth": 0,
              "ticks": ""
             }
            },
            "type": "scatterternary"
           }
          ],
          "surface": [
           {
            "colorbar": {
             "outlinewidth": 0,
             "ticks": ""
            },
            "colorscale": [
             [
              0,
              "#0d0887"
             ],
             [
              0.1111111111111111,
              "#46039f"
             ],
             [
              0.2222222222222222,
              "#7201a8"
             ],
             [
              0.3333333333333333,
              "#9c179e"
             ],
             [
              0.4444444444444444,
              "#bd3786"
             ],
             [
              0.5555555555555556,
              "#d8576b"
             ],
             [
              0.6666666666666666,
              "#ed7953"
             ],
             [
              0.7777777777777778,
              "#fb9f3a"
             ],
             [
              0.8888888888888888,
              "#fdca26"
             ],
             [
              1,
              "#f0f921"
             ]
            ],
            "type": "surface"
           }
          ],
          "table": [
           {
            "cells": {
             "fill": {
              "color": "#EBF0F8"
             },
             "line": {
              "color": "white"
             }
            },
            "header": {
             "fill": {
              "color": "#C8D4E3"
             },
             "line": {
              "color": "white"
             }
            },
            "type": "table"
           }
          ]
         },
         "layout": {
          "annotationdefaults": {
           "arrowcolor": "#2a3f5f",
           "arrowhead": 0,
           "arrowwidth": 1
          },
          "autotypenumbers": "strict",
          "coloraxis": {
           "colorbar": {
            "outlinewidth": 0,
            "ticks": ""
           }
          },
          "colorscale": {
           "diverging": [
            [
             0,
             "#8e0152"
            ],
            [
             0.1,
             "#c51b7d"
            ],
            [
             0.2,
             "#de77ae"
            ],
            [
             0.3,
             "#f1b6da"
            ],
            [
             0.4,
             "#fde0ef"
            ],
            [
             0.5,
             "#f7f7f7"
            ],
            [
             0.6,
             "#e6f5d0"
            ],
            [
             0.7,
             "#b8e186"
            ],
            [
             0.8,
             "#7fbc41"
            ],
            [
             0.9,
             "#4d9221"
            ],
            [
             1,
             "#276419"
            ]
           ],
           "sequential": [
            [
             0,
             "#0d0887"
            ],
            [
             0.1111111111111111,
             "#46039f"
            ],
            [
             0.2222222222222222,
             "#7201a8"
            ],
            [
             0.3333333333333333,
             "#9c179e"
            ],
            [
             0.4444444444444444,
             "#bd3786"
            ],
            [
             0.5555555555555556,
             "#d8576b"
            ],
            [
             0.6666666666666666,
             "#ed7953"
            ],
            [
             0.7777777777777778,
             "#fb9f3a"
            ],
            [
             0.8888888888888888,
             "#fdca26"
            ],
            [
             1,
             "#f0f921"
            ]
           ],
           "sequentialminus": [
            [
             0,
             "#0d0887"
            ],
            [
             0.1111111111111111,
             "#46039f"
            ],
            [
             0.2222222222222222,
             "#7201a8"
            ],
            [
             0.3333333333333333,
             "#9c179e"
            ],
            [
             0.4444444444444444,
             "#bd3786"
            ],
            [
             0.5555555555555556,
             "#d8576b"
            ],
            [
             0.6666666666666666,
             "#ed7953"
            ],
            [
             0.7777777777777778,
             "#fb9f3a"
            ],
            [
             0.8888888888888888,
             "#fdca26"
            ],
            [
             1,
             "#f0f921"
            ]
           ]
          },
          "colorway": [
           "#636efa",
           "#EF553B",
           "#00cc96",
           "#ab63fa",
           "#FFA15A",
           "#19d3f3",
           "#FF6692",
           "#B6E880",
           "#FF97FF",
           "#FECB52"
          ],
          "font": {
           "color": "#2a3f5f"
          },
          "geo": {
           "bgcolor": "white",
           "lakecolor": "white",
           "landcolor": "#E5ECF6",
           "showlakes": true,
           "showland": true,
           "subunitcolor": "white"
          },
          "hoverlabel": {
           "align": "left"
          },
          "hovermode": "closest",
          "mapbox": {
           "style": "light"
          },
          "paper_bgcolor": "white",
          "plot_bgcolor": "#E5ECF6",
          "polar": {
           "angularaxis": {
            "gridcolor": "white",
            "linecolor": "white",
            "ticks": ""
           },
           "bgcolor": "#E5ECF6",
           "radialaxis": {
            "gridcolor": "white",
            "linecolor": "white",
            "ticks": ""
           }
          },
          "scene": {
           "xaxis": {
            "backgroundcolor": "#E5ECF6",
            "gridcolor": "white",
            "gridwidth": 2,
            "linecolor": "white",
            "showbackground": true,
            "ticks": "",
            "zerolinecolor": "white"
           },
           "yaxis": {
            "backgroundcolor": "#E5ECF6",
            "gridcolor": "white",
            "gridwidth": 2,
            "linecolor": "white",
            "showbackground": true,
            "ticks": "",
            "zerolinecolor": "white"
           },
           "zaxis": {
            "backgroundcolor": "#E5ECF6",
            "gridcolor": "white",
            "gridwidth": 2,
            "linecolor": "white",
            "showbackground": true,
            "ticks": "",
            "zerolinecolor": "white"
           }
          },
          "shapedefaults": {
           "line": {
            "color": "#2a3f5f"
           }
          },
          "ternary": {
           "aaxis": {
            "gridcolor": "white",
            "linecolor": "white",
            "ticks": ""
           },
           "baxis": {
            "gridcolor": "white",
            "linecolor": "white",
            "ticks": ""
           },
           "bgcolor": "#E5ECF6",
           "caxis": {
            "gridcolor": "white",
            "linecolor": "white",
            "ticks": ""
           }
          },
          "title": {
           "x": 0.05
          },
          "xaxis": {
           "automargin": true,
           "gridcolor": "white",
           "linecolor": "white",
           "ticks": "",
           "title": {
            "standoff": 15
           },
           "zerolinecolor": "white",
           "zerolinewidth": 2
          },
          "yaxis": {
           "automargin": true,
           "gridcolor": "white",
           "linecolor": "white",
           "ticks": "",
           "title": {
            "standoff": 15
           },
           "zerolinecolor": "white",
           "zerolinewidth": 2
          }
         }
        },
        "title": {
         "text": "Radar Plot of Fav Genre 5"
        }
       }
      }
     },
     "metadata": {},
     "output_type": "display_data"
    }
   ],
   "source": [
    "fav_genre_disease_avg = dataset_raw_df.groupby(by=['fav_genre']).agg({'anxiety':'mean', 'depression':'mean', 'insomnia':'mean',\n",
    "       'ocd':'mean'})\n",
    "fav_genre_disease_avg.reset_index(drop=False, inplace=True)\n",
    "top_n_flag = True\n",
    "n = 5\n",
    "if top_n_flag:\n",
    "       top_n_genres = dataset_raw_df[\"fav_genre\"].value_counts()[:n].index.tolist()\n",
    "       fav_genre_disease_avg = fav_genre_disease_avg.loc[fav_genre_disease_avg.fav_genre.isin(top_n_genres)]\n",
    "fav_genre_disease_avg = fav_genre_disease_avg.melt(id_vars='fav_genre', var_name='genre')\n",
    "fav_genre_disease_avg\n",
    "fig = px.line_polar(fav_genre_disease_avg, r='value', theta='genre', line_close=True, color='fav_genre',\n",
    "                    title=f'Radar Plot of Fav Genre {n if top_n_flag else \"\"}')\n",
    "fig.show()"
   ]
  },
  {
   "cell_type": "code",
   "execution_count": 49,
   "metadata": {},
   "outputs": [
    {
     "data": {
      "text/plain": [
       "anxiety       5.883929\n",
       "depression    4.894481\n",
       "insomnia      3.801136\n",
       "ocd           2.659091\n",
       "dtype: float64"
      ]
     },
     "execution_count": 49,
     "metadata": {},
     "output_type": "execute_result"
    }
   ],
   "source": [
    "dataset_raw_df.agg({'anxiety':'mean', 'depression':'mean', 'insomnia':'mean',\n",
    "       'ocd':'mean'})"
   ]
  },
  {
   "cell_type": "code",
   "execution_count": 70,
   "metadata": {},
   "outputs": [
    {
     "data": {
      "text/plain": [
       "['Rock', 'Pop', 'Metal', 'Classical', 'Video game music']"
      ]
     },
     "execution_count": 70,
     "metadata": {},
     "output_type": "execute_result"
    }
   ],
   "source": []
  },
  {
   "cell_type": "code",
   "execution_count": 54,
   "metadata": {},
   "outputs": [
    {
     "data": {
      "image/png": "[encoded data removed]",
      "text/plain": [
       "<Figure size 1000x600 with 1 Axes>"
      ]
     },
     "metadata": {},
     "output_type": "display_data"
    }
   ],
   "source": [
    "# Specify the column for which you want to plot the value counts\n",
    "column_name = 'fav_genre'\n",
    "\n",
    "# Get the value counts of the column\n",
    "value_counts = dataset_raw_df[column_name].value_counts()\n",
    "\n",
    "# Plot the bar plot\n",
    "plt.figure(figsize=(10, 6))\n",
    "value_counts.plot(kind='bar', color='skyblue')\n",
    "plt.title('Value Counts of {}'.format(column_name))\n",
    "plt.xlabel(column_name)\n",
    "plt.ylabel('Counts')\n",
    "plt.xticks(rotation=45)\n",
    "plt.show()"
   ]
  },
  {
   "cell_type": "code",
   "execution_count": 45,
   "metadata": {},
   "outputs": [
    {
     "data": {
      "text/html": [
       "<div>\n",
       "<style scoped>\n",
       "    .dataframe tbody tr th:only-of-type {\n",
       "        vertical-align: middle;\n",
       "    }\n",
       "\n",
       "    .dataframe tbody tr th {\n",
       "        vertical-align: top;\n",
       "    }\n",
       "\n",
       "    .dataframe thead th {\n",
       "        text-align: right;\n",
       "    }\n",
       "</style>\n",
       "<table border=\"1\" class=\"dataframe\">\n",
       "  <thead>\n",
       "    <tr style=\"text-align: right;\">\n",
       "      <th></th>\n",
       "      <th>category</th>\n",
       "      <th>genre</th>\n",
       "      <th>value</th>\n",
       "    </tr>\n",
       "  </thead>\n",
       "  <tbody>\n",
       "    <tr>\n",
       "      <th>0</th>\n",
       "      <td>Never</td>\n",
       "      <td>frequency_country</td>\n",
       "      <td>290</td>\n",
       "    </tr>\n",
       "    <tr>\n",
       "      <th>1</th>\n",
       "      <td>Rarely</td>\n",
       "      <td>frequency_country</td>\n",
       "      <td>189</td>\n",
       "    </tr>\n",
       "    <tr>\n",
       "      <th>2</th>\n",
       "      <td>Sometimes</td>\n",
       "      <td>frequency_country</td>\n",
       "      <td>95</td>\n",
       "    </tr>\n",
       "    <tr>\n",
       "      <th>3</th>\n",
       "      <td>Very frequently</td>\n",
       "      <td>frequency_country</td>\n",
       "      <td>42</td>\n",
       "    </tr>\n",
       "    <tr>\n",
       "      <th>4</th>\n",
       "      <td>Never</td>\n",
       "      <td>frequency_edm</td>\n",
       "      <td>249</td>\n",
       "    </tr>\n",
       "    <tr>\n",
       "      <th>5</th>\n",
       "      <td>Rarely</td>\n",
       "      <td>frequency_edm</td>\n",
       "      <td>160</td>\n",
       "    </tr>\n",
       "    <tr>\n",
       "      <th>6</th>\n",
       "      <td>Sometimes</td>\n",
       "      <td>frequency_edm</td>\n",
       "      <td>122</td>\n",
       "    </tr>\n",
       "    <tr>\n",
       "      <th>7</th>\n",
       "      <td>Very frequently</td>\n",
       "      <td>frequency_edm</td>\n",
       "      <td>85</td>\n",
       "    </tr>\n",
       "    <tr>\n",
       "      <th>8</th>\n",
       "      <td>Never</td>\n",
       "      <td>frequency_folk</td>\n",
       "      <td>243</td>\n",
       "    </tr>\n",
       "    <tr>\n",
       "      <th>9</th>\n",
       "      <td>Rarely</td>\n",
       "      <td>frequency_folk</td>\n",
       "      <td>183</td>\n",
       "    </tr>\n",
       "    <tr>\n",
       "      <th>10</th>\n",
       "      <td>Sometimes</td>\n",
       "      <td>frequency_folk</td>\n",
       "      <td>128</td>\n",
       "    </tr>\n",
       "    <tr>\n",
       "      <th>11</th>\n",
       "      <td>Very frequently</td>\n",
       "      <td>frequency_folk</td>\n",
       "      <td>62</td>\n",
       "    </tr>\n",
       "    <tr>\n",
       "      <th>12</th>\n",
       "      <td>Never</td>\n",
       "      <td>frequency_gospel</td>\n",
       "      <td>448</td>\n",
       "    </tr>\n",
       "    <tr>\n",
       "      <th>13</th>\n",
       "      <td>Rarely</td>\n",
       "      <td>frequency_gospel</td>\n",
       "      <td>112</td>\n",
       "    </tr>\n",
       "    <tr>\n",
       "      <th>14</th>\n",
       "      <td>Sometimes</td>\n",
       "      <td>frequency_gospel</td>\n",
       "      <td>44</td>\n",
       "    </tr>\n",
       "    <tr>\n",
       "      <th>15</th>\n",
       "      <td>Very frequently</td>\n",
       "      <td>frequency_gospel</td>\n",
       "      <td>12</td>\n",
       "    </tr>\n",
       "    <tr>\n",
       "      <th>16</th>\n",
       "      <td>Never</td>\n",
       "      <td>frequency_hip_hop</td>\n",
       "      <td>146</td>\n",
       "    </tr>\n",
       "    <tr>\n",
       "      <th>17</th>\n",
       "      <td>Rarely</td>\n",
       "      <td>frequency_hip_hop</td>\n",
       "      <td>176</td>\n",
       "    </tr>\n",
       "    <tr>\n",
       "      <th>18</th>\n",
       "      <td>Sometimes</td>\n",
       "      <td>frequency_hip_hop</td>\n",
       "      <td>180</td>\n",
       "    </tr>\n",
       "    <tr>\n",
       "      <th>19</th>\n",
       "      <td>Very frequently</td>\n",
       "      <td>frequency_hip_hop</td>\n",
       "      <td>114</td>\n",
       "    </tr>\n",
       "    <tr>\n",
       "      <th>20</th>\n",
       "      <td>Never</td>\n",
       "      <td>frequency_jazz</td>\n",
       "      <td>209</td>\n",
       "    </tr>\n",
       "    <tr>\n",
       "      <th>21</th>\n",
       "      <td>Rarely</td>\n",
       "      <td>frequency_jazz</td>\n",
       "      <td>213</td>\n",
       "    </tr>\n",
       "    <tr>\n",
       "      <th>22</th>\n",
       "      <td>Sometimes</td>\n",
       "      <td>frequency_jazz</td>\n",
       "      <td>146</td>\n",
       "    </tr>\n",
       "    <tr>\n",
       "      <th>23</th>\n",
       "      <td>Very frequently</td>\n",
       "      <td>frequency_jazz</td>\n",
       "      <td>48</td>\n",
       "    </tr>\n",
       "    <tr>\n",
       "      <th>24</th>\n",
       "      <td>Never</td>\n",
       "      <td>frequency_k_pop</td>\n",
       "      <td>348</td>\n",
       "    </tr>\n",
       "    <tr>\n",
       "      <th>25</th>\n",
       "      <td>Rarely</td>\n",
       "      <td>frequency_k_pop</td>\n",
       "      <td>145</td>\n",
       "    </tr>\n",
       "    <tr>\n",
       "      <th>26</th>\n",
       "      <td>Sometimes</td>\n",
       "      <td>frequency_k_pop</td>\n",
       "      <td>56</td>\n",
       "    </tr>\n",
       "    <tr>\n",
       "      <th>27</th>\n",
       "      <td>Very frequently</td>\n",
       "      <td>frequency_k_pop</td>\n",
       "      <td>67</td>\n",
       "    </tr>\n",
       "    <tr>\n",
       "      <th>28</th>\n",
       "      <td>Never</td>\n",
       "      <td>frequency_latin</td>\n",
       "      <td>364</td>\n",
       "    </tr>\n",
       "    <tr>\n",
       "      <th>29</th>\n",
       "      <td>Rarely</td>\n",
       "      <td>frequency_latin</td>\n",
       "      <td>145</td>\n",
       "    </tr>\n",
       "    <tr>\n",
       "      <th>30</th>\n",
       "      <td>Sometimes</td>\n",
       "      <td>frequency_latin</td>\n",
       "      <td>77</td>\n",
       "    </tr>\n",
       "    <tr>\n",
       "      <th>31</th>\n",
       "      <td>Very frequently</td>\n",
       "      <td>frequency_latin</td>\n",
       "      <td>30</td>\n",
       "    </tr>\n",
       "    <tr>\n",
       "      <th>32</th>\n",
       "      <td>Never</td>\n",
       "      <td>frequency_lofi</td>\n",
       "      <td>231</td>\n",
       "    </tr>\n",
       "    <tr>\n",
       "      <th>33</th>\n",
       "      <td>Rarely</td>\n",
       "      <td>frequency_lofi</td>\n",
       "      <td>176</td>\n",
       "    </tr>\n",
       "    <tr>\n",
       "      <th>34</th>\n",
       "      <td>Sometimes</td>\n",
       "      <td>frequency_lofi</td>\n",
       "      <td>135</td>\n",
       "    </tr>\n",
       "    <tr>\n",
       "      <th>35</th>\n",
       "      <td>Very frequently</td>\n",
       "      <td>frequency_lofi</td>\n",
       "      <td>74</td>\n",
       "    </tr>\n",
       "    <tr>\n",
       "      <th>36</th>\n",
       "      <td>Never</td>\n",
       "      <td>frequency_metal</td>\n",
       "      <td>220</td>\n",
       "    </tr>\n",
       "    <tr>\n",
       "      <th>37</th>\n",
       "      <td>Rarely</td>\n",
       "      <td>frequency_metal</td>\n",
       "      <td>160</td>\n",
       "    </tr>\n",
       "    <tr>\n",
       "      <th>38</th>\n",
       "      <td>Sometimes</td>\n",
       "      <td>frequency_metal</td>\n",
       "      <td>112</td>\n",
       "    </tr>\n",
       "    <tr>\n",
       "      <th>39</th>\n",
       "      <td>Very frequently</td>\n",
       "      <td>frequency_metal</td>\n",
       "      <td>124</td>\n",
       "    </tr>\n",
       "    <tr>\n",
       "      <th>40</th>\n",
       "      <td>Never</td>\n",
       "      <td>frequency_pop</td>\n",
       "      <td>46</td>\n",
       "    </tr>\n",
       "    <tr>\n",
       "      <th>41</th>\n",
       "      <td>Rarely</td>\n",
       "      <td>frequency_pop</td>\n",
       "      <td>117</td>\n",
       "    </tr>\n",
       "    <tr>\n",
       "      <th>42</th>\n",
       "      <td>Sometimes</td>\n",
       "      <td>frequency_pop</td>\n",
       "      <td>216</td>\n",
       "    </tr>\n",
       "    <tr>\n",
       "      <th>43</th>\n",
       "      <td>Very frequently</td>\n",
       "      <td>frequency_pop</td>\n",
       "      <td>237</td>\n",
       "    </tr>\n",
       "    <tr>\n",
       "      <th>44</th>\n",
       "      <td>Never</td>\n",
       "      <td>frequency_r&amp;b</td>\n",
       "      <td>184</td>\n",
       "    </tr>\n",
       "    <tr>\n",
       "      <th>45</th>\n",
       "      <td>Rarely</td>\n",
       "      <td>frequency_r&amp;b</td>\n",
       "      <td>173</td>\n",
       "    </tr>\n",
       "    <tr>\n",
       "      <th>46</th>\n",
       "      <td>Sometimes</td>\n",
       "      <td>frequency_r&amp;b</td>\n",
       "      <td>151</td>\n",
       "    </tr>\n",
       "    <tr>\n",
       "      <th>47</th>\n",
       "      <td>Very frequently</td>\n",
       "      <td>frequency_r&amp;b</td>\n",
       "      <td>108</td>\n",
       "    </tr>\n",
       "    <tr>\n",
       "      <th>48</th>\n",
       "      <td>Never</td>\n",
       "      <td>frequency_rap</td>\n",
       "      <td>157</td>\n",
       "    </tr>\n",
       "    <tr>\n",
       "      <th>49</th>\n",
       "      <td>Rarely</td>\n",
       "      <td>frequency_rap</td>\n",
       "      <td>178</td>\n",
       "    </tr>\n",
       "    <tr>\n",
       "      <th>50</th>\n",
       "      <td>Sometimes</td>\n",
       "      <td>frequency_rap</td>\n",
       "      <td>164</td>\n",
       "    </tr>\n",
       "    <tr>\n",
       "      <th>51</th>\n",
       "      <td>Very frequently</td>\n",
       "      <td>frequency_rap</td>\n",
       "      <td>117</td>\n",
       "    </tr>\n",
       "    <tr>\n",
       "      <th>52</th>\n",
       "      <td>Never</td>\n",
       "      <td>frequency_rock</td>\n",
       "      <td>79</td>\n",
       "    </tr>\n",
       "    <tr>\n",
       "      <th>53</th>\n",
       "      <td>Rarely</td>\n",
       "      <td>frequency_rock</td>\n",
       "      <td>77</td>\n",
       "    </tr>\n",
       "    <tr>\n",
       "      <th>54</th>\n",
       "      <td>Sometimes</td>\n",
       "      <td>frequency_rock</td>\n",
       "      <td>183</td>\n",
       "    </tr>\n",
       "    <tr>\n",
       "      <th>55</th>\n",
       "      <td>Very frequently</td>\n",
       "      <td>frequency_rock</td>\n",
       "      <td>277</td>\n",
       "    </tr>\n",
       "    <tr>\n",
       "      <th>56</th>\n",
       "      <td>Never</td>\n",
       "      <td>frequency_video_game_music</td>\n",
       "      <td>192</td>\n",
       "    </tr>\n",
       "    <tr>\n",
       "      <th>57</th>\n",
       "      <td>Rarely</td>\n",
       "      <td>frequency_video_game_music</td>\n",
       "      <td>171</td>\n",
       "    </tr>\n",
       "    <tr>\n",
       "      <th>58</th>\n",
       "      <td>Sometimes</td>\n",
       "      <td>frequency_video_game_music</td>\n",
       "      <td>159</td>\n",
       "    </tr>\n",
       "    <tr>\n",
       "      <th>59</th>\n",
       "      <td>Very frequently</td>\n",
       "      <td>frequency_video_game_music</td>\n",
       "      <td>94</td>\n",
       "    </tr>\n",
       "  </tbody>\n",
       "</table>\n",
       "</div>"
      ],
      "text/plain": [
       "           category                       genre  value\n",
       "0             Never           frequency_country    290\n",
       "1            Rarely           frequency_country    189\n",
       "2         Sometimes           frequency_country     95\n",
       "3   Very frequently           frequency_country     42\n",
       "4             Never               frequency_edm    249\n",
       "5            Rarely               frequency_edm    160\n",
       "6         Sometimes               frequency_edm    122\n",
       "7   Very frequently               frequency_edm     85\n",
       "8             Never              frequency_folk    243\n",
       "9            Rarely              frequency_folk    183\n",
       "10        Sometimes              frequency_folk    128\n",
       "11  Very frequently              frequency_folk     62\n",
       "12            Never            frequency_gospel    448\n",
       "13           Rarely            frequency_gospel    112\n",
       "14        Sometimes            frequency_gospel     44\n",
       "15  Very frequently            frequency_gospel     12\n",
       "16            Never           frequency_hip_hop    146\n",
       "17           Rarely           frequency_hip_hop    176\n",
       "18        Sometimes           frequency_hip_hop    180\n",
       "19  Very frequently           frequency_hip_hop    114\n",
       "20            Never              frequency_jazz    209\n",
       "21           Rarely              frequency_jazz    213\n",
       "22        Sometimes              frequency_jazz    146\n",
       "23  Very frequently              frequency_jazz     48\n",
       "24            Never             frequency_k_pop    348\n",
       "25           Rarely             frequency_k_pop    145\n",
       "26        Sometimes             frequency_k_pop     56\n",
       "27  Very frequently             frequency_k_pop     67\n",
       "28            Never             frequency_latin    364\n",
       "29           Rarely             frequency_latin    145\n",
       "30        Sometimes             frequency_latin     77\n",
       "31  Very frequently             frequency_latin     30\n",
       "32            Never              frequency_lofi    231\n",
       "33           Rarely              frequency_lofi    176\n",
       "34        Sometimes              frequency_lofi    135\n",
       "35  Very frequently              frequency_lofi     74\n",
       "36            Never             frequency_metal    220\n",
       "37           Rarely             frequency_metal    160\n",
       "38        Sometimes             frequency_metal    112\n",
       "39  Very frequently             frequency_metal    124\n",
       "40            Never               frequency_pop     46\n",
       "41           Rarely               frequency_pop    117\n",
       "42        Sometimes               frequency_pop    216\n",
       "43  Very frequently               frequency_pop    237\n",
       "44            Never               frequency_r&b    184\n",
       "45           Rarely               frequency_r&b    173\n",
       "46        Sometimes               frequency_r&b    151\n",
       "47  Very frequently               frequency_r&b    108\n",
       "48            Never               frequency_rap    157\n",
       "49           Rarely               frequency_rap    178\n",
       "50        Sometimes               frequency_rap    164\n",
       "51  Very frequently               frequency_rap    117\n",
       "52            Never              frequency_rock     79\n",
       "53           Rarely              frequency_rock     77\n",
       "54        Sometimes              frequency_rock    183\n",
       "55  Very frequently              frequency_rock    277\n",
       "56            Never  frequency_video_game_music    192\n",
       "57           Rarely  frequency_video_game_music    171\n",
       "58        Sometimes  frequency_video_game_music    159\n",
       "59  Very frequently  frequency_video_game_music     94"
      ]
     },
     "execution_count": 45,
     "metadata": {},
     "output_type": "execute_result"
    }
   ],
   "source": [
    "combined_counts = pd.DataFrame()\n",
    "freq_genres_cols = ['frequency_country',\n",
    "       'frequency_edm', 'frequency_folk', 'frequency_gospel',\n",
    "       'frequency_hip_hop', 'frequency_jazz', 'frequency_k_pop',\n",
    "       'frequency_latin', 'frequency_lofi', 'frequency_metal', 'frequency_pop',\n",
    "       'frequency_r&b', 'frequency_rap', 'frequency_rock',\n",
    "       'frequency_video_game_music']\n",
    "# Loop through each column\n",
    "for col in freq_genres_cols:\n",
    "    # Get value counts of the current column\n",
    "    counts = dataset_raw_df[col].value_counts().sort_index()\n",
    "    \n",
    "    # Add the counts as a new column in the combined_counts DataFrame\n",
    "    combined_counts[col] = counts\n",
    "combined_counts.index.name = \"category\"\n",
    "combined_counts.reset_index(drop=False, inplace=True)\n",
    "combined_counts\n",
    "df_long = combined_counts.melt(id_vars='category', var_name='genre')\n",
    "df_long"
   ]
  },
  {
   "cell_type": "code",
   "execution_count": 41,
   "metadata": {},
   "outputs": [
    {
     "data": {
      "application/vnd.plotly.v1+json": {
       "config": {
        "plotlyServerURL": "https://plot.ly"
       },
       "data": [
        {
         "hovertemplate": "category=Never<br>value=%{r}<br>genre=%{theta}<extra></extra>",
         "legendgroup": "Never",
         "line": {
          "color": "#636efa",
          "dash": "solid"
         },
         "marker": {
          "symbol": "circle"
         },
         "mode": "lines",
         "name": "Never",
         "r": [
          290,
          249,
          243,
          448,
          146,
          209,
          348,
          364,
          231,
          220,
          46,
          184,
          157,
          79,
          192,
          290
         ],
         "showlegend": true,
         "subplot": "polar",
         "theta": [
          "frequency_country",
          "frequency_edm",
          "frequency_folk",
          "frequency_gospel",
          "frequency_hip_hop",
          "frequency_jazz",
          "frequency_k_pop",
          "frequency_latin",
          "frequency_lofi",
          "frequency_metal",
          "frequency_pop",
          "frequency_r&b",
          "frequency_rap",
          "frequency_rock",
          "frequency_video_game_music",
          "frequency_country"
         ],
         "type": "scatterpolar"
        },
        {
         "hovertemplate": "category=Rarely<br>value=%{r}<br>genre=%{theta}<extra></extra>",
         "legendgroup": "Rarely",
         "line": {
          "color": "#EF553B",
          "dash": "solid"
         },
         "marker": {
          "symbol": "circle"
         },
         "mode": "lines",
         "name": "Rarely",
         "r": [
          189,
          160,
          183,
          112,
          176,
          213,
          145,
          145,
          176,
          160,
          117,
          173,
          178,
          77,
          171,
          189
         ],
         "showlegend": true,
         "subplot": "polar",
         "theta": [
          "frequency_country",
          "frequency_edm",
          "frequency_folk",
          "frequency_gospel",
          "frequency_hip_hop",
          "frequency_jazz",
          "frequency_k_pop",
          "frequency_latin",
          "frequency_lofi",
          "frequency_metal",
          "frequency_pop",
          "frequency_r&b",
          "frequency_rap",
          "frequency_rock",
          "frequency_video_game_music",
          "frequency_country"
         ],
         "type": "scatterpolar"
        },
        {
         "hovertemplate": "category=Sometimes<br>value=%{r}<br>genre=%{theta}<extra></extra>",
         "legendgroup": "Sometimes",
         "line": {
          "color": "#00cc96",
          "dash": "solid"
         },
         "marker": {
          "symbol": "circle"
         },
         "mode": "lines",
         "name": "Sometimes",
         "r": [
          95,
          122,
          128,
          44,
          180,
          146,
          56,
          77,
          135,
          112,
          216,
          151,
          164,
          183,
          159,
          95
         ],
         "showlegend": true,
         "subplot": "polar",
         "theta": [
          "frequency_country",
          "frequency_edm",
          "frequency_folk",
          "frequency_gospel",
          "frequency_hip_hop",
          "frequency_jazz",
          "frequency_k_pop",
          "frequency_latin",
          "frequency_lofi",
          "frequency_metal",
          "frequency_pop",
          "frequency_r&b",
          "frequency_rap",
          "frequency_rock",
          "frequency_video_game_music",
          "frequency_country"
         ],
         "type": "scatterpolar"
        },
        {
         "hovertemplate": "category=Very frequently<br>value=%{r}<br>genre=%{theta}<extra></extra>",
         "legendgroup": "Very frequently",
         "line": {
          "color": "#ab63fa",
          "dash": "solid"
         },
         "marker": {
          "symbol": "circle"
         },
         "mode": "lines",
         "name": "Very frequently",
         "r": [
          42,
          85,
          62,
          12,
          114,
          48,
          67,
          30,
          74,
          124,
          237,
          108,
          117,
          277,
          94,
          42
         ],
         "showlegend": true,
         "subplot": "polar",
         "theta": [
          "frequency_country",
          "frequency_edm",
          "frequency_folk",
          "frequency_gospel",
          "frequency_hip_hop",
          "frequency_jazz",
          "frequency_k_pop",
          "frequency_latin",
          "frequency_lofi",
          "frequency_metal",
          "frequency_pop",
          "frequency_r&b",
          "frequency_rap",
          "frequency_rock",
          "frequency_video_game_music",
          "frequency_country"
         ],
         "type": "scatterpolar"
        }
       ],
       "layout": {
        "legend": {
         "title": {
          "text": "category"
         },
         "tracegroupgap": 0
        },
        "polar": {
         "angularaxis": {
          "direction": "clockwise",
          "rotation": 90
         },
         "domain": {
          "x": [
           0,
           1
          ],
          "y": [
           0,
           1
          ]
         }
        },
        "template": {
         "data": {
          "bar": [
           {
            "error_x": {
             "color": "#2a3f5f"
            },
            "error_y": {
             "color": "#2a3f5f"
            },
            "marker": {
             "line": {
              "color": "#E5ECF6",
              "width": 0.5
             },
             "pattern": {
              "fillmode": "overlay",
              "size": 10,
              "solidity": 0.2
             }
            },
            "type": "bar"
           }
          ],
          "barpolar": [
           {
            "marker": {
             "line": {
              "color": "#E5ECF6",
              "width": 0.5
             },
             "pattern": {
              "fillmode": "overlay",
              "size": 10,
              "solidity": 0.2
             }
            },
            "type": "barpolar"
           }
          ],
          "carpet": [
           {
            "aaxis": {
             "endlinecolor": "#2a3f5f",
             "gridcolor": "white",
             "linecolor": "white",
             "minorgridcolor": "white",
             "startlinecolor": "#2a3f5f"
            },
            "baxis": {
             "endlinecolor": "#2a3f5f",
             "gridcolor": "white",
             "linecolor": "white",
             "minorgridcolor": "white",
             "startlinecolor": "#2a3f5f"
            },
            "type": "carpet"
           }
          ],
          "choropleth": [
           {
            "colorbar": {
             "outlinewidth": 0,
             "ticks": ""
            },
            "type": "choropleth"
           }
          ],
          "contour": [
           {
            "colorbar": {
             "outlinewidth": 0,
             "ticks": ""
            },
            "colorscale": [
             [
              0,
              "#0d0887"
             ],
             [
              0.1111111111111111,
              "#46039f"
             ],
             [
              0.2222222222222222,
              "#7201a8"
             ],
             [
              0.3333333333333333,
              "#9c179e"
             ],
             [
              0.4444444444444444,
              "#bd3786"
             ],
             [
              0.5555555555555556,
              "#d8576b"
             ],
             [
              0.6666666666666666,
              "#ed7953"
             ],
             [
              0.7777777777777778,
              "#fb9f3a"
             ],
             [
              0.8888888888888888,
              "#fdca26"
             ],
             [
              1,
              "#f0f921"
             ]
            ],
            "type": "contour"
           }
          ],
          "contourcarpet": [
           {
            "colorbar": {
             "outlinewidth": 0,
             "ticks": ""
            },
            "type": "contourcarpet"
           }
          ],
          "heatmap": [
           {
            "colorbar": {
             "outlinewidth": 0,
             "ticks": ""
            },
            "colorscale": [
             [
              0,
              "#0d0887"
             ],
             [
              0.1111111111111111,
              "#46039f"
             ],
             [
              0.2222222222222222,
              "#7201a8"
             ],
             [
              0.3333333333333333,
              "#9c179e"
             ],
             [
              0.4444444444444444,
              "#bd3786"
             ],
             [
              0.5555555555555556,
              "#d8576b"
             ],
             [
              0.6666666666666666,
              "#ed7953"
             ],
             [
              0.7777777777777778,
              "#fb9f3a"
             ],
             [
              0.8888888888888888,
              "#fdca26"
             ],
             [
              1,
              "#f0f921"
             ]
            ],
            "type": "heatmap"
           }
          ],
          "heatmapgl": [
           {
            "colorbar": {
             "outlinewidth": 0,
             "ticks": ""
            },
            "colorscale": [
             [
              0,
              "#0d0887"
             ],
             [
              0.1111111111111111,
              "#46039f"
             ],
             [
              0.2222222222222222,
              "#7201a8"
             ],
             [
              0.3333333333333333,
              "#9c179e"
             ],
             [
              0.4444444444444444,
              "#bd3786"
             ],
             [
              0.5555555555555556,
              "#d8576b"
             ],
             [
              0.6666666666666666,
              "#ed7953"
             ],
             [
              0.7777777777777778,
              "#fb9f3a"
             ],
             [
              0.8888888888888888,
              "#fdca26"
             ],
             [
              1,
              "#f0f921"
             ]
            ],
            "type": "heatmapgl"
           }
          ],
          "histogram": [
           {
            "marker": {
             "pattern": {
              "fillmode": "overlay",
              "size": 10,
              "solidity": 0.2
             }
            },
            "type": "histogram"
           }
          ],
          "histogram2d": [
           {
            "colorbar": {
             "outlinewidth": 0,
             "ticks": ""
            },
            "colorscale": [
             [
              0,
              "#0d0887"
             ],
             [
              0.1111111111111111,
              "#46039f"
             ],
             [
              0.2222222222222222,
              "#7201a8"
             ],
             [
              0.3333333333333333,
              "#9c179e"
             ],
             [
              0.4444444444444444,
              "#bd3786"
             ],
             [
              0.5555555555555556,
              "#d8576b"
             ],
             [
              0.6666666666666666,
              "#ed7953"
             ],
             [
              0.7777777777777778,
              "#fb9f3a"
             ],
             [
              0.8888888888888888,
              "#fdca26"
             ],
             [
              1,
              "#f0f921"
             ]
            ],
            "type": "histogram2d"
           }
          ],
          "histogram2dcontour": [
           {
            "colorbar": {
             "outlinewidth": 0,
             "ticks": ""
            },
            "colorscale": [
             [
              0,
              "#0d0887"
             ],
             [
              0.1111111111111111,
              "#46039f"
             ],
             [
              0.2222222222222222,
              "#7201a8"
             ],
             [
              0.3333333333333333,
              "#9c179e"
             ],
             [
              0.4444444444444444,
              "#bd3786"
             ],
             [
              0.5555555555555556,
              "#d8576b"
             ],
             [
              0.6666666666666666,
              "#ed7953"
             ],
             [
              0.7777777777777778,
              "#fb9f3a"
             ],
             [
              0.8888888888888888,
              "#fdca26"
             ],
             [
              1,
              "#f0f921"
             ]
            ],
            "type": "histogram2dcontour"
           }
          ],
          "mesh3d": [
           {
            "colorbar": {
             "outlinewidth": 0,
             "ticks": ""
            },
            "type": "mesh3d"
           }
          ],
          "parcoords": [
           {
            "line": {
             "colorbar": {
              "outlinewidth": 0,
              "ticks": ""
             }
            },
            "type": "parcoords"
           }
          ],
          "pie": [
           {
            "automargin": true,
            "type": "pie"
           }
          ],
          "scatter": [
           {
            "fillpattern": {
             "fillmode": "overlay",
             "size": 10,
             "solidity": 0.2
            },
            "type": "scatter"
           }
          ],
          "scatter3d": [
           {
            "line": {
             "colorbar": {
              "outlinewidth": 0,
              "ticks": ""
             }
            },
            "marker": {
             "colorbar": {
              "outlinewidth": 0,
              "ticks": ""
             }
            },
            "type": "scatter3d"
           }
          ],
          "scattercarpet": [
           {
            "marker": {
             "colorbar": {
              "outlinewidth": 0,
              "ticks": ""
             }
            },
            "type": "scattercarpet"
           }
          ],
          "scattergeo": [
           {
            "marker": {
             "colorbar": {
              "outlinewidth": 0,
              "ticks": ""
             }
            },
            "type": "scattergeo"
           }
          ],
          "scattergl": [
           {
            "marker": {
             "colorbar": {
              "outlinewidth": 0,
              "ticks": ""
             }
            },
            "type": "scattergl"
           }
          ],
          "scattermapbox": [
           {
            "marker": {
             "colorbar": {
              "outlinewidth": 0,
              "ticks": ""
             }
            },
            "type": "scattermapbox"
           }
          ],
          "scatterpolar": [
           {
            "marker": {
             "colorbar": {
              "outlinewidth": 0,
              "ticks": ""
             }
            },
            "type": "scatterpolar"
           }
          ],
          "scatterpolargl": [
           {
            "marker": {
             "colorbar": {
              "outlinewidth": 0,
              "ticks": ""
             }
            },
            "type": "scatterpolargl"
           }
          ],
          "scatterternary": [
           {
            "marker": {
             "colorbar": {
              "outlinewidth": 0,
              "ticks": ""
             }
            },
            "type": "scatterternary"
           }
          ],
          "surface": [
           {
            "colorbar": {
             "outlinewidth": 0,
             "ticks": ""
            },
            "colorscale": [
             [
              0,
              "#0d0887"
             ],
             [
              0.1111111111111111,
              "#46039f"
             ],
             [
              0.2222222222222222,
              "#7201a8"
             ],
             [
              0.3333333333333333,
              "#9c179e"
             ],
             [
              0.4444444444444444,
              "#bd3786"
             ],
             [
              0.5555555555555556,
              "#d8576b"
             ],
             [
              0.6666666666666666,
              "#ed7953"
             ],
             [
              0.7777777777777778,
              "#fb9f3a"
             ],
             [
              0.8888888888888888,
              "#fdca26"
             ],
             [
              1,
              "#f0f921"
             ]
            ],
            "type": "surface"
           }
          ],
          "table": [
           {
            "cells": {
             "fill": {
              "color": "#EBF0F8"
             },
             "line": {
              "color": "white"
             }
            },
            "header": {
             "fill": {
              "color": "#C8D4E3"
             },
             "line": {
              "color": "white"
             }
            },
            "type": "table"
           }
          ]
         },
         "layout": {
          "annotationdefaults": {
           "arrowcolor": "#2a3f5f",
           "arrowhead": 0,
           "arrowwidth": 1
          },
          "autotypenumbers": "strict",
          "coloraxis": {
           "colorbar": {
            "outlinewidth": 0,
            "ticks": ""
           }
          },
          "colorscale": {
           "diverging": [
            [
             0,
             "#8e0152"
            ],
            [
             0.1,
             "#c51b7d"
            ],
            [
             0.2,
             "#de77ae"
            ],
            [
             0.3,
             "#f1b6da"
            ],
            [
             0.4,
             "#fde0ef"
            ],
            [
             0.5,
             "#f7f7f7"
            ],
            [
             0.6,
             "#e6f5d0"
            ],
            [
             0.7,
             "#b8e186"
            ],
            [
             0.8,
             "#7fbc41"
            ],
            [
             0.9,
             "#4d9221"
            ],
            [
             1,
             "#276419"
            ]
           ],
           "sequential": [
            [
             0,
             "#0d0887"
            ],
            [
             0.1111111111111111,
             "#46039f"
            ],
            [
             0.2222222222222222,
             "#7201a8"
            ],
            [
             0.3333333333333333,
             "#9c179e"
            ],
            [
             0.4444444444444444,
             "#bd3786"
            ],
            [
             0.5555555555555556,
             "#d8576b"
            ],
            [
             0.6666666666666666,
             "#ed7953"
            ],
            [
             0.7777777777777778,
             "#fb9f3a"
            ],
            [
             0.8888888888888888,
             "#fdca26"
            ],
            [
             1,
             "#f0f921"
            ]
           ],
           "sequentialminus": [
            [
             0,
             "#0d0887"
            ],
            [
             0.1111111111111111,
             "#46039f"
            ],
            [
             0.2222222222222222,
             "#7201a8"
            ],
            [
             0.3333333333333333,
             "#9c179e"
            ],
            [
             0.4444444444444444,
             "#bd3786"
            ],
            [
             0.5555555555555556,
             "#d8576b"
            ],
            [
             0.6666666666666666,
             "#ed7953"
            ],
            [
             0.7777777777777778,
             "#fb9f3a"
            ],
            [
             0.8888888888888888,
             "#fdca26"
            ],
            [
             1,
             "#f0f921"
            ]
           ]
          },
          "colorway": [
           "#636efa",
           "#EF553B",
           "#00cc96",
           "#ab63fa",
           "#FFA15A",
           "#19d3f3",
           "#FF6692",
           "#B6E880",
           "#FF97FF",
           "#FECB52"
          ],
          "font": {
           "color": "#2a3f5f"
          },
          "geo": {
           "bgcolor": "white",
           "lakecolor": "white",
           "landcolor": "#E5ECF6",
           "showlakes": true,
           "showland": true,
           "subunitcolor": "white"
          },
          "hoverlabel": {
           "align": "left"
          },
          "hovermode": "closest",
          "mapbox": {
           "style": "light"
          },
          "paper_bgcolor": "white",
          "plot_bgcolor": "#E5ECF6",
          "polar": {
           "angularaxis": {
            "gridcolor": "white",
            "linecolor": "white",
            "ticks": ""
           },
           "bgcolor": "#E5ECF6",
           "radialaxis": {
            "gridcolor": "white",
            "linecolor": "white",
            "ticks": ""
           }
          },
          "scene": {
           "xaxis": {
            "backgroundcolor": "#E5ECF6",
            "gridcolor": "white",
            "gridwidth": 2,
            "linecolor": "white",
            "showbackground": true,
            "ticks": "",
            "zerolinecolor": "white"
           },
           "yaxis": {
            "backgroundcolor": "#E5ECF6",
            "gridcolor": "white",
            "gridwidth": 2,
            "linecolor": "white",
            "showbackground": true,
            "ticks": "",
            "zerolinecolor": "white"
           },
           "zaxis": {
            "backgroundcolor": "#E5ECF6",
            "gridcolor": "white",
            "gridwidth": 2,
            "linecolor": "white",
            "showbackground": true,
            "ticks": "",
            "zerolinecolor": "white"
           }
          },
          "shapedefaults": {
           "line": {
            "color": "#2a3f5f"
           }
          },
          "ternary": {
           "aaxis": {
            "gridcolor": "white",
            "linecolor": "white",
            "ticks": ""
           },
           "baxis": {
            "gridcolor": "white",
            "linecolor": "white",
            "ticks": ""
           },
           "bgcolor": "#E5ECF6",
           "caxis": {
            "gridcolor": "white",
            "linecolor": "white",
            "ticks": ""
           }
          },
          "title": {
           "x": 0.05
          },
          "xaxis": {
           "automargin": true,
           "gridcolor": "white",
           "linecolor": "white",
           "ticks": "",
           "title": {
            "standoff": 15
           },
           "zerolinecolor": "white",
           "zerolinewidth": 2
          },
          "yaxis": {
           "automargin": true,
           "gridcolor": "white",
           "linecolor": "white",
           "ticks": "",
           "title": {
            "standoff": 15
           },
           "zerolinecolor": "white",
           "zerolinewidth": 2
          }
         }
        },
        "title": {
         "text": "Radar Plot of Frequency by Genre"
        }
       }
      }
     },
     "metadata": {},
     "output_type": "display_data"
    }
   ],
   "source": [
    "fig = px.line_polar(df_long, r='value', theta='genre', line_close=True, color='category',\n",
    "                    title='Radar Plot of Frequency by Genre')\n",
    "fig.show()"
   ]
  },
  {
   "cell_type": "code",
   "execution_count": null,
   "metadata": {},
   "outputs": [],
   "source": [
    "fig = px.line_polar(, r='r', theta='theta', line_close=True)\n",
    "fig.show()"
   ]
  }
 ],
 "metadata": {
  "kernelspec": {
   "display_name": "spring_2024_viz_project",
   "language": "python",
   "name": "python3"
  },
  "language_info": {
   "codemirror_mode": {
    "name": "ipython",
    "version": 3
   },
   "file_extension": ".py",
   "mimetype": "text/x-python",
   "name": "python",
   "nbconvert_exporter": "python",
   "pygments_lexer": "ipython3",
   "version": "3.12.3"
  }
 },
 "nbformat": 4,
 "nbformat_minor": 2
}
